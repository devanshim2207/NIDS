{
  "cells": [
    {
      "cell_type": "markdown",
      "metadata": {
        "id": "view-in-github",
        "colab_type": "text"
      },
      "source": [
        "<a href=\"https://colab.research.google.com/github/devanshim2207/NIDS/blob/main/btechproject.ipynb\" target=\"_parent\"><img src=\"https://colab.research.google.com/assets/colab-badge.svg\" alt=\"Open In Colab\"/></a>"
      ]
    },
    {
      "cell_type": "code",
      "execution_count": 2,
      "metadata": {
        "id": "ZWcKjS9kt9DY"
      },
      "outputs": [],
      "source": [
        "import pandas as pd"
      ]
    },
    {
      "cell_type": "code",
      "execution_count": 1,
      "metadata": {
        "colab": {
          "resources": {
            "http://localhost:8080/nbextensions/google.colab/files.js": {
              "data": "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",
              "ok": true,
              "headers": [
                [
                  "content-type",
                  "application/javascript"
                ]
              ],
              "status": 200,
              "status_text": ""
            }
          },
          "base_uri": "https://localhost:8080/",
          "height": 74
        },
        "id": "bnuPT0uluDTZ",
        "outputId": "a45e68e9-02f9-4c73-dbef-6e3dd9df930c"
      },
      "outputs": [
        {
          "output_type": "display_data",
          "data": {
            "text/plain": [
              "<IPython.core.display.HTML object>"
            ],
            "text/html": [
              "\n",
              "     <input type=\"file\" id=\"files-8dfe94ff-0240-47b3-9c0a-2e533c776b70\" name=\"files[]\" multiple disabled\n",
              "        style=\"border:none\" />\n",
              "     <output id=\"result-8dfe94ff-0240-47b3-9c0a-2e533c776b70\">\n",
              "      Upload widget is only available when the cell has been executed in the\n",
              "      current browser session. Please rerun this cell to enable.\n",
              "      </output>\n",
              "      <script src=\"/nbextensions/google.colab/files.js\"></script> "
            ]
          },
          "metadata": {}
        },
        {
          "output_type": "stream",
          "name": "stdout",
          "text": [
            "Saving Thursday-WorkingHours-Morning-WebAttacks.pcap_ISCX.csv to Thursday-WorkingHours-Morning-WebAttacks.pcap_ISCX.csv\n"
          ]
        }
      ],
      "source": [
        "from google.colab import files\n",
        "uploaded = files.upload()"
      ]
    },
    {
      "cell_type": "code",
      "execution_count": 3,
      "metadata": {
        "id": "-81c5rRgxCbm"
      },
      "outputs": [],
      "source": [
        "df = pd.read_csv(\"Thursday-WorkingHours-Morning-WebAttacks.pcap_ISCX.csv\")"
      ]
    },
    {
      "cell_type": "code",
      "execution_count": 4,
      "metadata": {
        "colab": {
          "base_uri": "https://localhost:8080/",
          "height": 351
        },
        "id": "mqTH_xxWyLhA",
        "outputId": "9073060b-5708-4ed1-e1e0-23701bb2f25c"
      },
      "outputs": [
        {
          "output_type": "execute_result",
          "data": {
            "text/plain": [
              "    Destination Port   Flow Duration   Total Fwd Packets  \\\n",
              "0                389       113095465                  48   \n",
              "1                389       113473706                  68   \n",
              "2                  0       119945515                 150   \n",
              "3                443        60261928                   9   \n",
              "4                 53             269                   2   \n",
              "\n",
              "    Total Backward Packets  Total Length of Fwd Packets  \\\n",
              "0                       24                         9668   \n",
              "1                       40                        11364   \n",
              "2                        0                            0   \n",
              "3                        7                         2330   \n",
              "4                        2                          102   \n",
              "\n",
              "    Total Length of Bwd Packets   Fwd Packet Length Max  \\\n",
              "0                         10012                     403   \n",
              "1                         12718                     403   \n",
              "2                             0                       0   \n",
              "3                          4221                    1093   \n",
              "4                           322                      51   \n",
              "\n",
              "    Fwd Packet Length Min   Fwd Packet Length Mean   Fwd Packet Length Std  \\\n",
              "0                       0               201.416667              203.548293   \n",
              "1                       0               167.117647              171.919413   \n",
              "2                       0                 0.000000                0.000000   \n",
              "3                       0               258.888889              409.702161   \n",
              "4                      51                51.000000                0.000000   \n",
              "\n",
              "   ...   min_seg_size_forward  Active Mean    Active Std   Active Max  \\\n",
              "0  ...                     32   203985.500  5.758373e+05      1629110   \n",
              "1  ...                     32   178326.875  5.034269e+05      1424245   \n",
              "2  ...                      0  6909777.333  1.170000e+07     20400000   \n",
              "3  ...                     20        0.000  0.000000e+00            0   \n",
              "4  ...                     32        0.000  0.000000e+00            0   \n",
              "\n",
              "    Active Min   Idle Mean      Idle Std   Idle Max   Idle Min   Label  \n",
              "0          379  13800000.0  4.277541e+06   16500000    6737603  BENIGN  \n",
              "1          325  13800000.0  4.229413e+06   16500000    6945512  BENIGN  \n",
              "2            6  24400000.0  2.430000e+07   60100000    5702188  BENIGN  \n",
              "3            0         0.0  0.000000e+00          0          0  BENIGN  \n",
              "4            0         0.0  0.000000e+00          0          0  BENIGN  \n",
              "\n",
              "[5 rows x 79 columns]"
            ],
            "text/html": [
              "\n",
              "  <div id=\"df-0a269b04-4d89-4ddc-bb7f-65c697b21be8\">\n",
              "    <div class=\"colab-df-container\">\n",
              "      <div>\n",
              "<style scoped>\n",
              "    .dataframe tbody tr th:only-of-type {\n",
              "        vertical-align: middle;\n",
              "    }\n",
              "\n",
              "    .dataframe tbody tr th {\n",
              "        vertical-align: top;\n",
              "    }\n",
              "\n",
              "    .dataframe thead th {\n",
              "        text-align: right;\n",
              "    }\n",
              "</style>\n",
              "<table border=\"1\" class=\"dataframe\">\n",
              "  <thead>\n",
              "    <tr style=\"text-align: right;\">\n",
              "      <th></th>\n",
              "      <th>Destination Port</th>\n",
              "      <th>Flow Duration</th>\n",
              "      <th>Total Fwd Packets</th>\n",
              "      <th>Total Backward Packets</th>\n",
              "      <th>Total Length of Fwd Packets</th>\n",
              "      <th>Total Length of Bwd Packets</th>\n",
              "      <th>Fwd Packet Length Max</th>\n",
              "      <th>Fwd Packet Length Min</th>\n",
              "      <th>Fwd Packet Length Mean</th>\n",
              "      <th>Fwd Packet Length Std</th>\n",
              "      <th>...</th>\n",
              "      <th>min_seg_size_forward</th>\n",
              "      <th>Active Mean</th>\n",
              "      <th>Active Std</th>\n",
              "      <th>Active Max</th>\n",
              "      <th>Active Min</th>\n",
              "      <th>Idle Mean</th>\n",
              "      <th>Idle Std</th>\n",
              "      <th>Idle Max</th>\n",
              "      <th>Idle Min</th>\n",
              "      <th>Label</th>\n",
              "    </tr>\n",
              "  </thead>\n",
              "  <tbody>\n",
              "    <tr>\n",
              "      <th>0</th>\n",
              "      <td>389</td>\n",
              "      <td>113095465</td>\n",
              "      <td>48</td>\n",
              "      <td>24</td>\n",
              "      <td>9668</td>\n",
              "      <td>10012</td>\n",
              "      <td>403</td>\n",
              "      <td>0</td>\n",
              "      <td>201.416667</td>\n",
              "      <td>203.548293</td>\n",
              "      <td>...</td>\n",
              "      <td>32</td>\n",
              "      <td>203985.500</td>\n",
              "      <td>5.758373e+05</td>\n",
              "      <td>1629110</td>\n",
              "      <td>379</td>\n",
              "      <td>13800000.0</td>\n",
              "      <td>4.277541e+06</td>\n",
              "      <td>16500000</td>\n",
              "      <td>6737603</td>\n",
              "      <td>BENIGN</td>\n",
              "    </tr>\n",
              "    <tr>\n",
              "      <th>1</th>\n",
              "      <td>389</td>\n",
              "      <td>113473706</td>\n",
              "      <td>68</td>\n",
              "      <td>40</td>\n",
              "      <td>11364</td>\n",
              "      <td>12718</td>\n",
              "      <td>403</td>\n",
              "      <td>0</td>\n",
              "      <td>167.117647</td>\n",
              "      <td>171.919413</td>\n",
              "      <td>...</td>\n",
              "      <td>32</td>\n",
              "      <td>178326.875</td>\n",
              "      <td>5.034269e+05</td>\n",
              "      <td>1424245</td>\n",
              "      <td>325</td>\n",
              "      <td>13800000.0</td>\n",
              "      <td>4.229413e+06</td>\n",
              "      <td>16500000</td>\n",
              "      <td>6945512</td>\n",
              "      <td>BENIGN</td>\n",
              "    </tr>\n",
              "    <tr>\n",
              "      <th>2</th>\n",
              "      <td>0</td>\n",
              "      <td>119945515</td>\n",
              "      <td>150</td>\n",
              "      <td>0</td>\n",
              "      <td>0</td>\n",
              "      <td>0</td>\n",
              "      <td>0</td>\n",
              "      <td>0</td>\n",
              "      <td>0.000000</td>\n",
              "      <td>0.000000</td>\n",
              "      <td>...</td>\n",
              "      <td>0</td>\n",
              "      <td>6909777.333</td>\n",
              "      <td>1.170000e+07</td>\n",
              "      <td>20400000</td>\n",
              "      <td>6</td>\n",
              "      <td>24400000.0</td>\n",
              "      <td>2.430000e+07</td>\n",
              "      <td>60100000</td>\n",
              "      <td>5702188</td>\n",
              "      <td>BENIGN</td>\n",
              "    </tr>\n",
              "    <tr>\n",
              "      <th>3</th>\n",
              "      <td>443</td>\n",
              "      <td>60261928</td>\n",
              "      <td>9</td>\n",
              "      <td>7</td>\n",
              "      <td>2330</td>\n",
              "      <td>4221</td>\n",
              "      <td>1093</td>\n",
              "      <td>0</td>\n",
              "      <td>258.888889</td>\n",
              "      <td>409.702161</td>\n",
              "      <td>...</td>\n",
              "      <td>20</td>\n",
              "      <td>0.000</td>\n",
              "      <td>0.000000e+00</td>\n",
              "      <td>0</td>\n",
              "      <td>0</td>\n",
              "      <td>0.0</td>\n",
              "      <td>0.000000e+00</td>\n",
              "      <td>0</td>\n",
              "      <td>0</td>\n",
              "      <td>BENIGN</td>\n",
              "    </tr>\n",
              "    <tr>\n",
              "      <th>4</th>\n",
              "      <td>53</td>\n",
              "      <td>269</td>\n",
              "      <td>2</td>\n",
              "      <td>2</td>\n",
              "      <td>102</td>\n",
              "      <td>322</td>\n",
              "      <td>51</td>\n",
              "      <td>51</td>\n",
              "      <td>51.000000</td>\n",
              "      <td>0.000000</td>\n",
              "      <td>...</td>\n",
              "      <td>32</td>\n",
              "      <td>0.000</td>\n",
              "      <td>0.000000e+00</td>\n",
              "      <td>0</td>\n",
              "      <td>0</td>\n",
              "      <td>0.0</td>\n",
              "      <td>0.000000e+00</td>\n",
              "      <td>0</td>\n",
              "      <td>0</td>\n",
              "      <td>BENIGN</td>\n",
              "    </tr>\n",
              "  </tbody>\n",
              "</table>\n",
              "<p>5 rows × 79 columns</p>\n",
              "</div>\n",
              "      <button class=\"colab-df-convert\" onclick=\"convertToInteractive('df-0a269b04-4d89-4ddc-bb7f-65c697b21be8')\"\n",
              "              title=\"Convert this dataframe to an interactive table.\"\n",
              "              style=\"display:none;\">\n",
              "        \n",
              "  <svg xmlns=\"http://www.w3.org/2000/svg\" height=\"24px\"viewBox=\"0 0 24 24\"\n",
              "       width=\"24px\">\n",
              "    <path d=\"M0 0h24v24H0V0z\" fill=\"none\"/>\n",
              "    <path d=\"M18.56 5.44l.94 2.06.94-2.06 2.06-.94-2.06-.94-.94-2.06-.94 2.06-2.06.94zm-11 1L8.5 8.5l.94-2.06 2.06-.94-2.06-.94L8.5 2.5l-.94 2.06-2.06.94zm10 10l.94 2.06.94-2.06 2.06-.94-2.06-.94-.94-2.06-.94 2.06-2.06.94z\"/><path d=\"M17.41 7.96l-1.37-1.37c-.4-.4-.92-.59-1.43-.59-.52 0-1.04.2-1.43.59L10.3 9.45l-7.72 7.72c-.78.78-.78 2.05 0 2.83L4 21.41c.39.39.9.59 1.41.59.51 0 1.02-.2 1.41-.59l7.78-7.78 2.81-2.81c.8-.78.8-2.07 0-2.86zM5.41 20L4 18.59l7.72-7.72 1.47 1.35L5.41 20z\"/>\n",
              "  </svg>\n",
              "      </button>\n",
              "      \n",
              "  <style>\n",
              "    .colab-df-container {\n",
              "      display:flex;\n",
              "      flex-wrap:wrap;\n",
              "      gap: 12px;\n",
              "    }\n",
              "\n",
              "    .colab-df-convert {\n",
              "      background-color: #E8F0FE;\n",
              "      border: none;\n",
              "      border-radius: 50%;\n",
              "      cursor: pointer;\n",
              "      display: none;\n",
              "      fill: #1967D2;\n",
              "      height: 32px;\n",
              "      padding: 0 0 0 0;\n",
              "      width: 32px;\n",
              "    }\n",
              "\n",
              "    .colab-df-convert:hover {\n",
              "      background-color: #E2EBFA;\n",
              "      box-shadow: 0px 1px 2px rgba(60, 64, 67, 0.3), 0px 1px 3px 1px rgba(60, 64, 67, 0.15);\n",
              "      fill: #174EA6;\n",
              "    }\n",
              "\n",
              "    [theme=dark] .colab-df-convert {\n",
              "      background-color: #3B4455;\n",
              "      fill: #D2E3FC;\n",
              "    }\n",
              "\n",
              "    [theme=dark] .colab-df-convert:hover {\n",
              "      background-color: #434B5C;\n",
              "      box-shadow: 0px 1px 3px 1px rgba(0, 0, 0, 0.15);\n",
              "      filter: drop-shadow(0px 1px 2px rgba(0, 0, 0, 0.3));\n",
              "      fill: #FFFFFF;\n",
              "    }\n",
              "  </style>\n",
              "\n",
              "      <script>\n",
              "        const buttonEl =\n",
              "          document.querySelector('#df-0a269b04-4d89-4ddc-bb7f-65c697b21be8 button.colab-df-convert');\n",
              "        buttonEl.style.display =\n",
              "          google.colab.kernel.accessAllowed ? 'block' : 'none';\n",
              "\n",
              "        async function convertToInteractive(key) {\n",
              "          const element = document.querySelector('#df-0a269b04-4d89-4ddc-bb7f-65c697b21be8');\n",
              "          const dataTable =\n",
              "            await google.colab.kernel.invokeFunction('convertToInteractive',\n",
              "                                                     [key], {});\n",
              "          if (!dataTable) return;\n",
              "\n",
              "          const docLinkHtml = 'Like what you see? Visit the ' +\n",
              "            '<a target=\"_blank\" href=https://colab.research.google.com/notebooks/data_table.ipynb>data table notebook</a>'\n",
              "            + ' to learn more about interactive tables.';\n",
              "          element.innerHTML = '';\n",
              "          dataTable['output_type'] = 'display_data';\n",
              "          await google.colab.output.renderOutput(dataTable, element);\n",
              "          const docLink = document.createElement('div');\n",
              "          docLink.innerHTML = docLinkHtml;\n",
              "          element.appendChild(docLink);\n",
              "        }\n",
              "      </script>\n",
              "    </div>\n",
              "  </div>\n",
              "  "
            ]
          },
          "metadata": {},
          "execution_count": 4
        }
      ],
      "source": [
        "df.head()"
      ]
    },
    {
      "cell_type": "code",
      "execution_count": 5,
      "metadata": {
        "colab": {
          "base_uri": "https://localhost:8080/"
        },
        "id": "RYLscoLF5hMb",
        "outputId": "1c915e4c-862d-4ee9-b1d8-16f6d3c3c656"
      },
      "outputs": [
        {
          "output_type": "stream",
          "name": "stdout",
          "text": [
            "[' Destination Port' ' Flow Duration' ' Total Fwd Packets'\n",
            " ' Total Backward Packets' 'Total Length of Fwd Packets'\n",
            " ' Total Length of Bwd Packets' ' Fwd Packet Length Max'\n",
            " ' Fwd Packet Length Min' ' Fwd Packet Length Mean'\n",
            " ' Fwd Packet Length Std' 'Bwd Packet Length Max' ' Bwd Packet Length Min'\n",
            " ' Bwd Packet Length Mean' ' Bwd Packet Length Std' 'Flow Bytes/s'\n",
            " ' Flow Packets/s' ' Flow IAT Mean' ' Flow IAT Std' ' Flow IAT Max'\n",
            " ' Flow IAT Min' 'Fwd IAT Total' ' Fwd IAT Mean' ' Fwd IAT Std'\n",
            " ' Fwd IAT Max' ' Fwd IAT Min' 'Bwd IAT Total' ' Bwd IAT Mean'\n",
            " ' Bwd IAT Std' ' Bwd IAT Max' ' Bwd IAT Min' 'Fwd PSH Flags'\n",
            " ' Bwd PSH Flags' ' Fwd URG Flags' ' Bwd URG Flags' ' Fwd Header Length'\n",
            " ' Bwd Header Length' 'Fwd Packets/s' ' Bwd Packets/s'\n",
            " ' Min Packet Length' ' Max Packet Length' ' Packet Length Mean'\n",
            " ' Packet Length Std' ' Packet Length Variance' 'FIN Flag Count'\n",
            " ' SYN Flag Count' ' RST Flag Count' ' PSH Flag Count' ' ACK Flag Count'\n",
            " ' URG Flag Count' ' CWE Flag Count' ' ECE Flag Count' ' Down/Up Ratio'\n",
            " ' Average Packet Size' ' Avg Fwd Segment Size' ' Avg Bwd Segment Size'\n",
            " ' Fwd Header Length.1' 'Fwd Avg Bytes/Bulk' ' Fwd Avg Packets/Bulk'\n",
            " ' Fwd Avg Bulk Rate' ' Bwd Avg Bytes/Bulk' ' Bwd Avg Packets/Bulk'\n",
            " 'Bwd Avg Bulk Rate' 'Subflow Fwd Packets' ' Subflow Fwd Bytes'\n",
            " ' Subflow Bwd Packets' ' Subflow Bwd Bytes' 'Init_Win_bytes_forward'\n",
            " ' Init_Win_bytes_backward' ' act_data_pkt_fwd' ' min_seg_size_forward'\n",
            " 'Active Mean' ' Active Std' ' Active Max' ' Active Min' 'Idle Mean'\n",
            " ' Idle Std' ' Idle Max' ' Idle Min' ' Label']\n"
          ]
        }
      ],
      "source": [
        "columnsNamesArr = df.columns.values\n",
        "print(columnsNamesArr)"
      ]
    },
    {
      "cell_type": "code",
      "execution_count": 6,
      "metadata": {
        "colab": {
          "base_uri": "https://localhost:8080/",
          "height": 35
        },
        "id": "E-nggRgPG8BF",
        "outputId": "f83aa025-13d7-4f13-d61b-ae7c7459b40a"
      },
      "outputs": [
        {
          "output_type": "execute_result",
          "data": {
            "text/plain": [
              "'Idle Mean'"
            ],
            "application/vnd.google.colaboratory.intrinsic+json": {
              "type": "string"
            }
          },
          "metadata": {},
          "execution_count": 6
        }
      ],
      "source": [
        "columnsNamesArr[74]"
      ]
    },
    {
      "cell_type": "code",
      "execution_count": 7,
      "metadata": {
        "colab": {
          "base_uri": "https://localhost:8080/"
        },
        "id": "xXC4_2cnMZc-",
        "outputId": "f514f3a3-2568-4e0f-f204-5e2744ac88df"
      },
      "outputs": [
        {
          "output_type": "execute_result",
          "data": {
            "text/plain": [
              "(170366, 79)"
            ]
          },
          "metadata": {},
          "execution_count": 7
        }
      ],
      "source": [
        "df.shape"
      ]
    },
    {
      "cell_type": "markdown",
      "metadata": {
        "id": "qORcDZ-kH5dz"
      },
      "source": [
        "**Data preprocessing**\n"
      ]
    },
    {
      "cell_type": "markdown",
      "metadata": {
        "id": "v0sPBU8ZILLz"
      },
      "source": [
        "Label Encoding"
      ]
    },
    {
      "cell_type": "code",
      "execution_count": 8,
      "metadata": {
        "id": "3Y6gRgUKJtCG"
      },
      "outputs": [],
      "source": [
        "from sklearn import preprocessing\n",
        "label_encoder = preprocessing.LabelEncoder()\n",
        " \n",
        "df[' Label']= label_encoder.fit_transform(df[' Label'])"
      ]
    },
    {
      "cell_type": "code",
      "execution_count": 9,
      "metadata": {
        "colab": {
          "base_uri": "https://localhost:8080/"
        },
        "id": "TdOT0NJulnga",
        "outputId": "e1f7ad64-eba0-4947-ee12-c165947ccd9e"
      },
      "outputs": [
        {
          "output_type": "execute_result",
          "data": {
            "text/plain": [
              "array([0, 1, 3, 2])"
            ]
          },
          "metadata": {},
          "execution_count": 9
        }
      ],
      "source": [
        "df[' Label'].unique()"
      ]
    },
    {
      "cell_type": "code",
      "execution_count": 10,
      "metadata": {
        "colab": {
          "base_uri": "https://localhost:8080/"
        },
        "id": "Vw2wMg83Lgmt",
        "outputId": "d6350300-3543-4cd3-d977-0d2090c9f7ef"
      },
      "outputs": [
        {
          "output_type": "execute_result",
          "data": {
            "text/plain": [
              "0         0\n",
              "1         0\n",
              "2         0\n",
              "3         0\n",
              "4         0\n",
              "         ..\n",
              "170361    0\n",
              "170362    0\n",
              "170363    0\n",
              "170364    0\n",
              "170365    0\n",
              "Name:  Label, Length: 170366, dtype: int64"
            ]
          },
          "metadata": {},
          "execution_count": 10
        }
      ],
      "source": [
        "df[' Label']"
      ]
    },
    {
      "cell_type": "markdown",
      "metadata": {
        "id": "SKOyb8FUIGRj"
      },
      "source": [
        "checking for null values"
      ]
    },
    {
      "cell_type": "code",
      "execution_count": 11,
      "metadata": {
        "colab": {
          "base_uri": "https://localhost:8080/",
          "height": 540
        },
        "id": "KCeUmALt6V5A",
        "outputId": "740aa05f-54f8-4b82-c35e-8f0a0efa52ea"
      },
      "outputs": [
        {
          "output_type": "execute_result",
          "data": {
            "text/plain": [
              "         Destination Port   Flow Duration   Total Fwd Packets  \\\n",
              "0                   False           False               False   \n",
              "1                   False           False               False   \n",
              "2                   False           False               False   \n",
              "3                   False           False               False   \n",
              "4                   False           False               False   \n",
              "...                   ...             ...                 ...   \n",
              "170361              False           False               False   \n",
              "170362              False           False               False   \n",
              "170363              False           False               False   \n",
              "170364              False           False               False   \n",
              "170365              False           False               False   \n",
              "\n",
              "         Total Backward Packets  Total Length of Fwd Packets  \\\n",
              "0                         False                        False   \n",
              "1                         False                        False   \n",
              "2                         False                        False   \n",
              "3                         False                        False   \n",
              "4                         False                        False   \n",
              "...                         ...                          ...   \n",
              "170361                    False                        False   \n",
              "170362                    False                        False   \n",
              "170363                    False                        False   \n",
              "170364                    False                        False   \n",
              "170365                    False                        False   \n",
              "\n",
              "         Total Length of Bwd Packets   Fwd Packet Length Max  \\\n",
              "0                              False                   False   \n",
              "1                              False                   False   \n",
              "2                              False                   False   \n",
              "3                              False                   False   \n",
              "4                              False                   False   \n",
              "...                              ...                     ...   \n",
              "170361                         False                   False   \n",
              "170362                         False                   False   \n",
              "170363                         False                   False   \n",
              "170364                         False                   False   \n",
              "170365                         False                   False   \n",
              "\n",
              "         Fwd Packet Length Min   Fwd Packet Length Mean  \\\n",
              "0                        False                    False   \n",
              "1                        False                    False   \n",
              "2                        False                    False   \n",
              "3                        False                    False   \n",
              "4                        False                    False   \n",
              "...                        ...                      ...   \n",
              "170361                   False                    False   \n",
              "170362                   False                    False   \n",
              "170363                   False                    False   \n",
              "170364                   False                    False   \n",
              "170365                   False                    False   \n",
              "\n",
              "         Fwd Packet Length Std  ...   min_seg_size_forward  Active Mean  \\\n",
              "0                        False  ...                  False        False   \n",
              "1                        False  ...                  False        False   \n",
              "2                        False  ...                  False        False   \n",
              "3                        False  ...                  False        False   \n",
              "4                        False  ...                  False        False   \n",
              "...                        ...  ...                    ...          ...   \n",
              "170361                   False  ...                  False        False   \n",
              "170362                   False  ...                  False        False   \n",
              "170363                   False  ...                  False        False   \n",
              "170364                   False  ...                  False        False   \n",
              "170365                   False  ...                  False        False   \n",
              "\n",
              "         Active Std   Active Max   Active Min  Idle Mean   Idle Std  \\\n",
              "0             False        False        False      False      False   \n",
              "1             False        False        False      False      False   \n",
              "2             False        False        False      False      False   \n",
              "3             False        False        False      False      False   \n",
              "4             False        False        False      False      False   \n",
              "...             ...          ...          ...        ...        ...   \n",
              "170361        False        False        False      False      False   \n",
              "170362        False        False        False      False      False   \n",
              "170363        False        False        False      False      False   \n",
              "170364        False        False        False      False      False   \n",
              "170365        False        False        False      False      False   \n",
              "\n",
              "         Idle Max   Idle Min   Label  \n",
              "0           False      False   False  \n",
              "1           False      False   False  \n",
              "2           False      False   False  \n",
              "3           False      False   False  \n",
              "4           False      False   False  \n",
              "...           ...        ...     ...  \n",
              "170361      False      False   False  \n",
              "170362      False      False   False  \n",
              "170363      False      False   False  \n",
              "170364      False      False   False  \n",
              "170365      False      False   False  \n",
              "\n",
              "[170366 rows x 79 columns]"
            ],
            "text/html": [
              "\n",
              "  <div id=\"df-e35b9583-27b6-43c5-87b0-51520ab8e995\">\n",
              "    <div class=\"colab-df-container\">\n",
              "      <div>\n",
              "<style scoped>\n",
              "    .dataframe tbody tr th:only-of-type {\n",
              "        vertical-align: middle;\n",
              "    }\n",
              "\n",
              "    .dataframe tbody tr th {\n",
              "        vertical-align: top;\n",
              "    }\n",
              "\n",
              "    .dataframe thead th {\n",
              "        text-align: right;\n",
              "    }\n",
              "</style>\n",
              "<table border=\"1\" class=\"dataframe\">\n",
              "  <thead>\n",
              "    <tr style=\"text-align: right;\">\n",
              "      <th></th>\n",
              "      <th>Destination Port</th>\n",
              "      <th>Flow Duration</th>\n",
              "      <th>Total Fwd Packets</th>\n",
              "      <th>Total Backward Packets</th>\n",
              "      <th>Total Length of Fwd Packets</th>\n",
              "      <th>Total Length of Bwd Packets</th>\n",
              "      <th>Fwd Packet Length Max</th>\n",
              "      <th>Fwd Packet Length Min</th>\n",
              "      <th>Fwd Packet Length Mean</th>\n",
              "      <th>Fwd Packet Length Std</th>\n",
              "      <th>...</th>\n",
              "      <th>min_seg_size_forward</th>\n",
              "      <th>Active Mean</th>\n",
              "      <th>Active Std</th>\n",
              "      <th>Active Max</th>\n",
              "      <th>Active Min</th>\n",
              "      <th>Idle Mean</th>\n",
              "      <th>Idle Std</th>\n",
              "      <th>Idle Max</th>\n",
              "      <th>Idle Min</th>\n",
              "      <th>Label</th>\n",
              "    </tr>\n",
              "  </thead>\n",
              "  <tbody>\n",
              "    <tr>\n",
              "      <th>0</th>\n",
              "      <td>False</td>\n",
              "      <td>False</td>\n",
              "      <td>False</td>\n",
              "      <td>False</td>\n",
              "      <td>False</td>\n",
              "      <td>False</td>\n",
              "      <td>False</td>\n",
              "      <td>False</td>\n",
              "      <td>False</td>\n",
              "      <td>False</td>\n",
              "      <td>...</td>\n",
              "      <td>False</td>\n",
              "      <td>False</td>\n",
              "      <td>False</td>\n",
              "      <td>False</td>\n",
              "      <td>False</td>\n",
              "      <td>False</td>\n",
              "      <td>False</td>\n",
              "      <td>False</td>\n",
              "      <td>False</td>\n",
              "      <td>False</td>\n",
              "    </tr>\n",
              "    <tr>\n",
              "      <th>1</th>\n",
              "      <td>False</td>\n",
              "      <td>False</td>\n",
              "      <td>False</td>\n",
              "      <td>False</td>\n",
              "      <td>False</td>\n",
              "      <td>False</td>\n",
              "      <td>False</td>\n",
              "      <td>False</td>\n",
              "      <td>False</td>\n",
              "      <td>False</td>\n",
              "      <td>...</td>\n",
              "      <td>False</td>\n",
              "      <td>False</td>\n",
              "      <td>False</td>\n",
              "      <td>False</td>\n",
              "      <td>False</td>\n",
              "      <td>False</td>\n",
              "      <td>False</td>\n",
              "      <td>False</td>\n",
              "      <td>False</td>\n",
              "      <td>False</td>\n",
              "    </tr>\n",
              "    <tr>\n",
              "      <th>2</th>\n",
              "      <td>False</td>\n",
              "      <td>False</td>\n",
              "      <td>False</td>\n",
              "      <td>False</td>\n",
              "      <td>False</td>\n",
              "      <td>False</td>\n",
              "      <td>False</td>\n",
              "      <td>False</td>\n",
              "      <td>False</td>\n",
              "      <td>False</td>\n",
              "      <td>...</td>\n",
              "      <td>False</td>\n",
              "      <td>False</td>\n",
              "      <td>False</td>\n",
              "      <td>False</td>\n",
              "      <td>False</td>\n",
              "      <td>False</td>\n",
              "      <td>False</td>\n",
              "      <td>False</td>\n",
              "      <td>False</td>\n",
              "      <td>False</td>\n",
              "    </tr>\n",
              "    <tr>\n",
              "      <th>3</th>\n",
              "      <td>False</td>\n",
              "      <td>False</td>\n",
              "      <td>False</td>\n",
              "      <td>False</td>\n",
              "      <td>False</td>\n",
              "      <td>False</td>\n",
              "      <td>False</td>\n",
              "      <td>False</td>\n",
              "      <td>False</td>\n",
              "      <td>False</td>\n",
              "      <td>...</td>\n",
              "      <td>False</td>\n",
              "      <td>False</td>\n",
              "      <td>False</td>\n",
              "      <td>False</td>\n",
              "      <td>False</td>\n",
              "      <td>False</td>\n",
              "      <td>False</td>\n",
              "      <td>False</td>\n",
              "      <td>False</td>\n",
              "      <td>False</td>\n",
              "    </tr>\n",
              "    <tr>\n",
              "      <th>4</th>\n",
              "      <td>False</td>\n",
              "      <td>False</td>\n",
              "      <td>False</td>\n",
              "      <td>False</td>\n",
              "      <td>False</td>\n",
              "      <td>False</td>\n",
              "      <td>False</td>\n",
              "      <td>False</td>\n",
              "      <td>False</td>\n",
              "      <td>False</td>\n",
              "      <td>...</td>\n",
              "      <td>False</td>\n",
              "      <td>False</td>\n",
              "      <td>False</td>\n",
              "      <td>False</td>\n",
              "      <td>False</td>\n",
              "      <td>False</td>\n",
              "      <td>False</td>\n",
              "      <td>False</td>\n",
              "      <td>False</td>\n",
              "      <td>False</td>\n",
              "    </tr>\n",
              "    <tr>\n",
              "      <th>...</th>\n",
              "      <td>...</td>\n",
              "      <td>...</td>\n",
              "      <td>...</td>\n",
              "      <td>...</td>\n",
              "      <td>...</td>\n",
              "      <td>...</td>\n",
              "      <td>...</td>\n",
              "      <td>...</td>\n",
              "      <td>...</td>\n",
              "      <td>...</td>\n",
              "      <td>...</td>\n",
              "      <td>...</td>\n",
              "      <td>...</td>\n",
              "      <td>...</td>\n",
              "      <td>...</td>\n",
              "      <td>...</td>\n",
              "      <td>...</td>\n",
              "      <td>...</td>\n",
              "      <td>...</td>\n",
              "      <td>...</td>\n",
              "      <td>...</td>\n",
              "    </tr>\n",
              "    <tr>\n",
              "      <th>170361</th>\n",
              "      <td>False</td>\n",
              "      <td>False</td>\n",
              "      <td>False</td>\n",
              "      <td>False</td>\n",
              "      <td>False</td>\n",
              "      <td>False</td>\n",
              "      <td>False</td>\n",
              "      <td>False</td>\n",
              "      <td>False</td>\n",
              "      <td>False</td>\n",
              "      <td>...</td>\n",
              "      <td>False</td>\n",
              "      <td>False</td>\n",
              "      <td>False</td>\n",
              "      <td>False</td>\n",
              "      <td>False</td>\n",
              "      <td>False</td>\n",
              "      <td>False</td>\n",
              "      <td>False</td>\n",
              "      <td>False</td>\n",
              "      <td>False</td>\n",
              "    </tr>\n",
              "    <tr>\n",
              "      <th>170362</th>\n",
              "      <td>False</td>\n",
              "      <td>False</td>\n",
              "      <td>False</td>\n",
              "      <td>False</td>\n",
              "      <td>False</td>\n",
              "      <td>False</td>\n",
              "      <td>False</td>\n",
              "      <td>False</td>\n",
              "      <td>False</td>\n",
              "      <td>False</td>\n",
              "      <td>...</td>\n",
              "      <td>False</td>\n",
              "      <td>False</td>\n",
              "      <td>False</td>\n",
              "      <td>False</td>\n",
              "      <td>False</td>\n",
              "      <td>False</td>\n",
              "      <td>False</td>\n",
              "      <td>False</td>\n",
              "      <td>False</td>\n",
              "      <td>False</td>\n",
              "    </tr>\n",
              "    <tr>\n",
              "      <th>170363</th>\n",
              "      <td>False</td>\n",
              "      <td>False</td>\n",
              "      <td>False</td>\n",
              "      <td>False</td>\n",
              "      <td>False</td>\n",
              "      <td>False</td>\n",
              "      <td>False</td>\n",
              "      <td>False</td>\n",
              "      <td>False</td>\n",
              "      <td>False</td>\n",
              "      <td>...</td>\n",
              "      <td>False</td>\n",
              "      <td>False</td>\n",
              "      <td>False</td>\n",
              "      <td>False</td>\n",
              "      <td>False</td>\n",
              "      <td>False</td>\n",
              "      <td>False</td>\n",
              "      <td>False</td>\n",
              "      <td>False</td>\n",
              "      <td>False</td>\n",
              "    </tr>\n",
              "    <tr>\n",
              "      <th>170364</th>\n",
              "      <td>False</td>\n",
              "      <td>False</td>\n",
              "      <td>False</td>\n",
              "      <td>False</td>\n",
              "      <td>False</td>\n",
              "      <td>False</td>\n",
              "      <td>False</td>\n",
              "      <td>False</td>\n",
              "      <td>False</td>\n",
              "      <td>False</td>\n",
              "      <td>...</td>\n",
              "      <td>False</td>\n",
              "      <td>False</td>\n",
              "      <td>False</td>\n",
              "      <td>False</td>\n",
              "      <td>False</td>\n",
              "      <td>False</td>\n",
              "      <td>False</td>\n",
              "      <td>False</td>\n",
              "      <td>False</td>\n",
              "      <td>False</td>\n",
              "    </tr>\n",
              "    <tr>\n",
              "      <th>170365</th>\n",
              "      <td>False</td>\n",
              "      <td>False</td>\n",
              "      <td>False</td>\n",
              "      <td>False</td>\n",
              "      <td>False</td>\n",
              "      <td>False</td>\n",
              "      <td>False</td>\n",
              "      <td>False</td>\n",
              "      <td>False</td>\n",
              "      <td>False</td>\n",
              "      <td>...</td>\n",
              "      <td>False</td>\n",
              "      <td>False</td>\n",
              "      <td>False</td>\n",
              "      <td>False</td>\n",
              "      <td>False</td>\n",
              "      <td>False</td>\n",
              "      <td>False</td>\n",
              "      <td>False</td>\n",
              "      <td>False</td>\n",
              "      <td>False</td>\n",
              "    </tr>\n",
              "  </tbody>\n",
              "</table>\n",
              "<p>170366 rows × 79 columns</p>\n",
              "</div>\n",
              "      <button class=\"colab-df-convert\" onclick=\"convertToInteractive('df-e35b9583-27b6-43c5-87b0-51520ab8e995')\"\n",
              "              title=\"Convert this dataframe to an interactive table.\"\n",
              "              style=\"display:none;\">\n",
              "        \n",
              "  <svg xmlns=\"http://www.w3.org/2000/svg\" height=\"24px\"viewBox=\"0 0 24 24\"\n",
              "       width=\"24px\">\n",
              "    <path d=\"M0 0h24v24H0V0z\" fill=\"none\"/>\n",
              "    <path d=\"M18.56 5.44l.94 2.06.94-2.06 2.06-.94-2.06-.94-.94-2.06-.94 2.06-2.06.94zm-11 1L8.5 8.5l.94-2.06 2.06-.94-2.06-.94L8.5 2.5l-.94 2.06-2.06.94zm10 10l.94 2.06.94-2.06 2.06-.94-2.06-.94-.94-2.06-.94 2.06-2.06.94z\"/><path d=\"M17.41 7.96l-1.37-1.37c-.4-.4-.92-.59-1.43-.59-.52 0-1.04.2-1.43.59L10.3 9.45l-7.72 7.72c-.78.78-.78 2.05 0 2.83L4 21.41c.39.39.9.59 1.41.59.51 0 1.02-.2 1.41-.59l7.78-7.78 2.81-2.81c.8-.78.8-2.07 0-2.86zM5.41 20L4 18.59l7.72-7.72 1.47 1.35L5.41 20z\"/>\n",
              "  </svg>\n",
              "      </button>\n",
              "      \n",
              "  <style>\n",
              "    .colab-df-container {\n",
              "      display:flex;\n",
              "      flex-wrap:wrap;\n",
              "      gap: 12px;\n",
              "    }\n",
              "\n",
              "    .colab-df-convert {\n",
              "      background-color: #E8F0FE;\n",
              "      border: none;\n",
              "      border-radius: 50%;\n",
              "      cursor: pointer;\n",
              "      display: none;\n",
              "      fill: #1967D2;\n",
              "      height: 32px;\n",
              "      padding: 0 0 0 0;\n",
              "      width: 32px;\n",
              "    }\n",
              "\n",
              "    .colab-df-convert:hover {\n",
              "      background-color: #E2EBFA;\n",
              "      box-shadow: 0px 1px 2px rgba(60, 64, 67, 0.3), 0px 1px 3px 1px rgba(60, 64, 67, 0.15);\n",
              "      fill: #174EA6;\n",
              "    }\n",
              "\n",
              "    [theme=dark] .colab-df-convert {\n",
              "      background-color: #3B4455;\n",
              "      fill: #D2E3FC;\n",
              "    }\n",
              "\n",
              "    [theme=dark] .colab-df-convert:hover {\n",
              "      background-color: #434B5C;\n",
              "      box-shadow: 0px 1px 3px 1px rgba(0, 0, 0, 0.15);\n",
              "      filter: drop-shadow(0px 1px 2px rgba(0, 0, 0, 0.3));\n",
              "      fill: #FFFFFF;\n",
              "    }\n",
              "  </style>\n",
              "\n",
              "      <script>\n",
              "        const buttonEl =\n",
              "          document.querySelector('#df-e35b9583-27b6-43c5-87b0-51520ab8e995 button.colab-df-convert');\n",
              "        buttonEl.style.display =\n",
              "          google.colab.kernel.accessAllowed ? 'block' : 'none';\n",
              "\n",
              "        async function convertToInteractive(key) {\n",
              "          const element = document.querySelector('#df-e35b9583-27b6-43c5-87b0-51520ab8e995');\n",
              "          const dataTable =\n",
              "            await google.colab.kernel.invokeFunction('convertToInteractive',\n",
              "                                                     [key], {});\n",
              "          if (!dataTable) return;\n",
              "\n",
              "          const docLinkHtml = 'Like what you see? Visit the ' +\n",
              "            '<a target=\"_blank\" href=https://colab.research.google.com/notebooks/data_table.ipynb>data table notebook</a>'\n",
              "            + ' to learn more about interactive tables.';\n",
              "          element.innerHTML = '';\n",
              "          dataTable['output_type'] = 'display_data';\n",
              "          await google.colab.output.renderOutput(dataTable, element);\n",
              "          const docLink = document.createElement('div');\n",
              "          docLink.innerHTML = docLinkHtml;\n",
              "          element.appendChild(docLink);\n",
              "        }\n",
              "      </script>\n",
              "    </div>\n",
              "  </div>\n",
              "  "
            ]
          },
          "metadata": {},
          "execution_count": 11
        }
      ],
      "source": [
        "df.isnull()"
      ]
    },
    {
      "cell_type": "markdown",
      "metadata": {
        "id": "ch1CRqrgMgRm"
      },
      "source": [
        "Removing duplicate rows"
      ]
    },
    {
      "cell_type": "code",
      "execution_count": 12,
      "metadata": {
        "id": "unuF2mJJMUQj"
      },
      "outputs": [],
      "source": [
        "df.drop_duplicates(keep=False,inplace=True)"
      ]
    },
    {
      "cell_type": "code",
      "execution_count": 13,
      "metadata": {
        "colab": {
          "base_uri": "https://localhost:8080/"
        },
        "id": "La9WYj89MtEP",
        "outputId": "87cdee39-8ea0-4a9b-a3b2-2694519689e9"
      },
      "outputs": [
        {
          "output_type": "execute_result",
          "data": {
            "text/plain": [
              "(161525, 79)"
            ]
          },
          "metadata": {},
          "execution_count": 13
        }
      ],
      "source": [
        "df.shape"
      ]
    },
    {
      "cell_type": "code",
      "execution_count": 14,
      "metadata": {
        "colab": {
          "base_uri": "https://localhost:8080/",
          "height": 428
        },
        "id": "P7pI2-RS75f3",
        "outputId": "c2afca65-6c44-4bb9-e68b-85a867354e35"
      },
      "outputs": [
        {
          "output_type": "execute_result",
          "data": {
            "text/plain": [
              "        Destination Port   Flow Duration   Total Fwd Packets  \\\n",
              "count      161525.000000    1.615250e+05       161525.000000   \n",
              "mean         8316.190094    1.309576e+07           15.827779   \n",
              "std         18632.734885    3.263789e+07         1153.430654   \n",
              "min             0.000000   -1.000000e+00            1.000000   \n",
              "25%            53.000000    2.110000e+02            1.000000   \n",
              "50%            80.000000    4.101600e+04            2.000000   \n",
              "75%           443.000000    1.465587e+06            4.000000   \n",
              "max         65529.000000    1.200000e+08       200755.000000   \n",
              "\n",
              "        Total Backward Packets  Total Length of Fwd Packets  \\\n",
              "count            161525.000000                 1.615250e+05   \n",
              "mean                 18.955926                 5.833282e+02   \n",
              "std                1534.842983                 7.917571e+03   \n",
              "min                   0.000000                 0.000000e+00   \n",
              "25%                   1.000000                 3.700000e+01   \n",
              "50%                   2.000000                 6.800000e+01   \n",
              "75%                   2.000000                 1.620000e+02   \n",
              "max              270686.000000                 1.197199e+06   \n",
              "\n",
              "        Total Length of Bwd Packets   Fwd Packet Length Max  \\\n",
              "count                  1.615250e+05           161525.000000   \n",
              "mean                   3.357055e+04              175.636434   \n",
              "std                    3.554260e+06              472.463464   \n",
              "min                    0.000000e+00                0.000000   \n",
              "25%                    6.000000e+00               29.000000   \n",
              "50%                    1.440000e+02               42.000000   \n",
              "75%                    3.490000e+02               64.000000   \n",
              "max                    6.270000e+08            23360.000000   \n",
              "\n",
              "        Fwd Packet Length Min   Fwd Packet Length Mean  \\\n",
              "count           161525.000000            161525.000000   \n",
              "mean                22.680353                49.582715   \n",
              "std                 38.599560                97.168890   \n",
              "min                  0.000000                 0.000000   \n",
              "25%                  0.000000                14.333333   \n",
              "50%                  6.000000                38.000000   \n",
              "75%                 42.000000                51.000000   \n",
              "max               1729.000000              4183.057143   \n",
              "\n",
              "        Fwd Packet Length Std  ...   min_seg_size_forward   Active Mean  \\\n",
              "count           161525.000000  ...          161525.000000  1.615250e+05   \n",
              "mean                49.777152  ...              25.634038  7.840690e+04   \n",
              "std                145.328477  ...               6.372744  6.346468e+05   \n",
              "min                  0.000000  ...               0.000000  0.000000e+00   \n",
              "25%                  0.000000  ...              20.000000  0.000000e+00   \n",
              "50%                  0.000000  ...              20.000000  0.000000e+00   \n",
              "75%                 20.207259  ...              32.000000  0.000000e+00   \n",
              "max               5463.493850  ...              60.000000  1.030000e+08   \n",
              "\n",
              "         Active Std    Active Max    Active Min     Idle Mean      Idle Std  \\\n",
              "count  1.615250e+05  1.615250e+05  1.615250e+05  1.615250e+05  1.615250e+05   \n",
              "mean   4.931978e+04  1.736538e+05  5.287067e+04  3.878982e+06  1.382466e+05   \n",
              "std    3.787569e+05  1.021993e+06  5.756937e+05  1.328093e+07  1.780305e+06   \n",
              "min    0.000000e+00  0.000000e+00  0.000000e+00  0.000000e+00  0.000000e+00   \n",
              "25%    0.000000e+00  0.000000e+00  0.000000e+00  0.000000e+00  0.000000e+00   \n",
              "50%    0.000000e+00  0.000000e+00  0.000000e+00  0.000000e+00  0.000000e+00   \n",
              "75%    0.000000e+00  0.000000e+00  0.000000e+00  0.000000e+00  0.000000e+00   \n",
              "max    6.370000e+07  1.030000e+08  1.030000e+08  1.200000e+08  7.260000e+07   \n",
              "\n",
              "           Idle Max      Idle Min          Label  \n",
              "count  1.615250e+05  1.615250e+05  161525.000000  \n",
              "mean   3.978429e+06  3.723677e+06       0.021316  \n",
              "std    1.355084e+07  1.313203e+07       0.212934  \n",
              "min    0.000000e+00  0.000000e+00       0.000000  \n",
              "25%    0.000000e+00  0.000000e+00       0.000000  \n",
              "50%    0.000000e+00  0.000000e+00       0.000000  \n",
              "75%    0.000000e+00  0.000000e+00       0.000000  \n",
              "max    1.200000e+08  1.200000e+08       3.000000  \n",
              "\n",
              "[8 rows x 79 columns]"
            ],
            "text/html": [
              "\n",
              "  <div id=\"df-5f480317-f4c8-431e-a94b-8754609b0263\">\n",
              "    <div class=\"colab-df-container\">\n",
              "      <div>\n",
              "<style scoped>\n",
              "    .dataframe tbody tr th:only-of-type {\n",
              "        vertical-align: middle;\n",
              "    }\n",
              "\n",
              "    .dataframe tbody tr th {\n",
              "        vertical-align: top;\n",
              "    }\n",
              "\n",
              "    .dataframe thead th {\n",
              "        text-align: right;\n",
              "    }\n",
              "</style>\n",
              "<table border=\"1\" class=\"dataframe\">\n",
              "  <thead>\n",
              "    <tr style=\"text-align: right;\">\n",
              "      <th></th>\n",
              "      <th>Destination Port</th>\n",
              "      <th>Flow Duration</th>\n",
              "      <th>Total Fwd Packets</th>\n",
              "      <th>Total Backward Packets</th>\n",
              "      <th>Total Length of Fwd Packets</th>\n",
              "      <th>Total Length of Bwd Packets</th>\n",
              "      <th>Fwd Packet Length Max</th>\n",
              "      <th>Fwd Packet Length Min</th>\n",
              "      <th>Fwd Packet Length Mean</th>\n",
              "      <th>Fwd Packet Length Std</th>\n",
              "      <th>...</th>\n",
              "      <th>min_seg_size_forward</th>\n",
              "      <th>Active Mean</th>\n",
              "      <th>Active Std</th>\n",
              "      <th>Active Max</th>\n",
              "      <th>Active Min</th>\n",
              "      <th>Idle Mean</th>\n",
              "      <th>Idle Std</th>\n",
              "      <th>Idle Max</th>\n",
              "      <th>Idle Min</th>\n",
              "      <th>Label</th>\n",
              "    </tr>\n",
              "  </thead>\n",
              "  <tbody>\n",
              "    <tr>\n",
              "      <th>count</th>\n",
              "      <td>161525.000000</td>\n",
              "      <td>1.615250e+05</td>\n",
              "      <td>161525.000000</td>\n",
              "      <td>161525.000000</td>\n",
              "      <td>1.615250e+05</td>\n",
              "      <td>1.615250e+05</td>\n",
              "      <td>161525.000000</td>\n",
              "      <td>161525.000000</td>\n",
              "      <td>161525.000000</td>\n",
              "      <td>161525.000000</td>\n",
              "      <td>...</td>\n",
              "      <td>161525.000000</td>\n",
              "      <td>1.615250e+05</td>\n",
              "      <td>1.615250e+05</td>\n",
              "      <td>1.615250e+05</td>\n",
              "      <td>1.615250e+05</td>\n",
              "      <td>1.615250e+05</td>\n",
              "      <td>1.615250e+05</td>\n",
              "      <td>1.615250e+05</td>\n",
              "      <td>1.615250e+05</td>\n",
              "      <td>161525.000000</td>\n",
              "    </tr>\n",
              "    <tr>\n",
              "      <th>mean</th>\n",
              "      <td>8316.190094</td>\n",
              "      <td>1.309576e+07</td>\n",
              "      <td>15.827779</td>\n",
              "      <td>18.955926</td>\n",
              "      <td>5.833282e+02</td>\n",
              "      <td>3.357055e+04</td>\n",
              "      <td>175.636434</td>\n",
              "      <td>22.680353</td>\n",
              "      <td>49.582715</td>\n",
              "      <td>49.777152</td>\n",
              "      <td>...</td>\n",
              "      <td>25.634038</td>\n",
              "      <td>7.840690e+04</td>\n",
              "      <td>4.931978e+04</td>\n",
              "      <td>1.736538e+05</td>\n",
              "      <td>5.287067e+04</td>\n",
              "      <td>3.878982e+06</td>\n",
              "      <td>1.382466e+05</td>\n",
              "      <td>3.978429e+06</td>\n",
              "      <td>3.723677e+06</td>\n",
              "      <td>0.021316</td>\n",
              "    </tr>\n",
              "    <tr>\n",
              "      <th>std</th>\n",
              "      <td>18632.734885</td>\n",
              "      <td>3.263789e+07</td>\n",
              "      <td>1153.430654</td>\n",
              "      <td>1534.842983</td>\n",
              "      <td>7.917571e+03</td>\n",
              "      <td>3.554260e+06</td>\n",
              "      <td>472.463464</td>\n",
              "      <td>38.599560</td>\n",
              "      <td>97.168890</td>\n",
              "      <td>145.328477</td>\n",
              "      <td>...</td>\n",
              "      <td>6.372744</td>\n",
              "      <td>6.346468e+05</td>\n",
              "      <td>3.787569e+05</td>\n",
              "      <td>1.021993e+06</td>\n",
              "      <td>5.756937e+05</td>\n",
              "      <td>1.328093e+07</td>\n",
              "      <td>1.780305e+06</td>\n",
              "      <td>1.355084e+07</td>\n",
              "      <td>1.313203e+07</td>\n",
              "      <td>0.212934</td>\n",
              "    </tr>\n",
              "    <tr>\n",
              "      <th>min</th>\n",
              "      <td>0.000000</td>\n",
              "      <td>-1.000000e+00</td>\n",
              "      <td>1.000000</td>\n",
              "      <td>0.000000</td>\n",
              "      <td>0.000000e+00</td>\n",
              "      <td>0.000000e+00</td>\n",
              "      <td>0.000000</td>\n",
              "      <td>0.000000</td>\n",
              "      <td>0.000000</td>\n",
              "      <td>0.000000</td>\n",
              "      <td>...</td>\n",
              "      <td>0.000000</td>\n",
              "      <td>0.000000e+00</td>\n",
              "      <td>0.000000e+00</td>\n",
              "      <td>0.000000e+00</td>\n",
              "      <td>0.000000e+00</td>\n",
              "      <td>0.000000e+00</td>\n",
              "      <td>0.000000e+00</td>\n",
              "      <td>0.000000e+00</td>\n",
              "      <td>0.000000e+00</td>\n",
              "      <td>0.000000</td>\n",
              "    </tr>\n",
              "    <tr>\n",
              "      <th>25%</th>\n",
              "      <td>53.000000</td>\n",
              "      <td>2.110000e+02</td>\n",
              "      <td>1.000000</td>\n",
              "      <td>1.000000</td>\n",
              "      <td>3.700000e+01</td>\n",
              "      <td>6.000000e+00</td>\n",
              "      <td>29.000000</td>\n",
              "      <td>0.000000</td>\n",
              "      <td>14.333333</td>\n",
              "      <td>0.000000</td>\n",
              "      <td>...</td>\n",
              "      <td>20.000000</td>\n",
              "      <td>0.000000e+00</td>\n",
              "      <td>0.000000e+00</td>\n",
              "      <td>0.000000e+00</td>\n",
              "      <td>0.000000e+00</td>\n",
              "      <td>0.000000e+00</td>\n",
              "      <td>0.000000e+00</td>\n",
              "      <td>0.000000e+00</td>\n",
              "      <td>0.000000e+00</td>\n",
              "      <td>0.000000</td>\n",
              "    </tr>\n",
              "    <tr>\n",
              "      <th>50%</th>\n",
              "      <td>80.000000</td>\n",
              "      <td>4.101600e+04</td>\n",
              "      <td>2.000000</td>\n",
              "      <td>2.000000</td>\n",
              "      <td>6.800000e+01</td>\n",
              "      <td>1.440000e+02</td>\n",
              "      <td>42.000000</td>\n",
              "      <td>6.000000</td>\n",
              "      <td>38.000000</td>\n",
              "      <td>0.000000</td>\n",
              "      <td>...</td>\n",
              "      <td>20.000000</td>\n",
              "      <td>0.000000e+00</td>\n",
              "      <td>0.000000e+00</td>\n",
              "      <td>0.000000e+00</td>\n",
              "      <td>0.000000e+00</td>\n",
              "      <td>0.000000e+00</td>\n",
              "      <td>0.000000e+00</td>\n",
              "      <td>0.000000e+00</td>\n",
              "      <td>0.000000e+00</td>\n",
              "      <td>0.000000</td>\n",
              "    </tr>\n",
              "    <tr>\n",
              "      <th>75%</th>\n",
              "      <td>443.000000</td>\n",
              "      <td>1.465587e+06</td>\n",
              "      <td>4.000000</td>\n",
              "      <td>2.000000</td>\n",
              "      <td>1.620000e+02</td>\n",
              "      <td>3.490000e+02</td>\n",
              "      <td>64.000000</td>\n",
              "      <td>42.000000</td>\n",
              "      <td>51.000000</td>\n",
              "      <td>20.207259</td>\n",
              "      <td>...</td>\n",
              "      <td>32.000000</td>\n",
              "      <td>0.000000e+00</td>\n",
              "      <td>0.000000e+00</td>\n",
              "      <td>0.000000e+00</td>\n",
              "      <td>0.000000e+00</td>\n",
              "      <td>0.000000e+00</td>\n",
              "      <td>0.000000e+00</td>\n",
              "      <td>0.000000e+00</td>\n",
              "      <td>0.000000e+00</td>\n",
              "      <td>0.000000</td>\n",
              "    </tr>\n",
              "    <tr>\n",
              "      <th>max</th>\n",
              "      <td>65529.000000</td>\n",
              "      <td>1.200000e+08</td>\n",
              "      <td>200755.000000</td>\n",
              "      <td>270686.000000</td>\n",
              "      <td>1.197199e+06</td>\n",
              "      <td>6.270000e+08</td>\n",
              "      <td>23360.000000</td>\n",
              "      <td>1729.000000</td>\n",
              "      <td>4183.057143</td>\n",
              "      <td>5463.493850</td>\n",
              "      <td>...</td>\n",
              "      <td>60.000000</td>\n",
              "      <td>1.030000e+08</td>\n",
              "      <td>6.370000e+07</td>\n",
              "      <td>1.030000e+08</td>\n",
              "      <td>1.030000e+08</td>\n",
              "      <td>1.200000e+08</td>\n",
              "      <td>7.260000e+07</td>\n",
              "      <td>1.200000e+08</td>\n",
              "      <td>1.200000e+08</td>\n",
              "      <td>3.000000</td>\n",
              "    </tr>\n",
              "  </tbody>\n",
              "</table>\n",
              "<p>8 rows × 79 columns</p>\n",
              "</div>\n",
              "      <button class=\"colab-df-convert\" onclick=\"convertToInteractive('df-5f480317-f4c8-431e-a94b-8754609b0263')\"\n",
              "              title=\"Convert this dataframe to an interactive table.\"\n",
              "              style=\"display:none;\">\n",
              "        \n",
              "  <svg xmlns=\"http://www.w3.org/2000/svg\" height=\"24px\"viewBox=\"0 0 24 24\"\n",
              "       width=\"24px\">\n",
              "    <path d=\"M0 0h24v24H0V0z\" fill=\"none\"/>\n",
              "    <path d=\"M18.56 5.44l.94 2.06.94-2.06 2.06-.94-2.06-.94-.94-2.06-.94 2.06-2.06.94zm-11 1L8.5 8.5l.94-2.06 2.06-.94-2.06-.94L8.5 2.5l-.94 2.06-2.06.94zm10 10l.94 2.06.94-2.06 2.06-.94-2.06-.94-.94-2.06-.94 2.06-2.06.94z\"/><path d=\"M17.41 7.96l-1.37-1.37c-.4-.4-.92-.59-1.43-.59-.52 0-1.04.2-1.43.59L10.3 9.45l-7.72 7.72c-.78.78-.78 2.05 0 2.83L4 21.41c.39.39.9.59 1.41.59.51 0 1.02-.2 1.41-.59l7.78-7.78 2.81-2.81c.8-.78.8-2.07 0-2.86zM5.41 20L4 18.59l7.72-7.72 1.47 1.35L5.41 20z\"/>\n",
              "  </svg>\n",
              "      </button>\n",
              "      \n",
              "  <style>\n",
              "    .colab-df-container {\n",
              "      display:flex;\n",
              "      flex-wrap:wrap;\n",
              "      gap: 12px;\n",
              "    }\n",
              "\n",
              "    .colab-df-convert {\n",
              "      background-color: #E8F0FE;\n",
              "      border: none;\n",
              "      border-radius: 50%;\n",
              "      cursor: pointer;\n",
              "      display: none;\n",
              "      fill: #1967D2;\n",
              "      height: 32px;\n",
              "      padding: 0 0 0 0;\n",
              "      width: 32px;\n",
              "    }\n",
              "\n",
              "    .colab-df-convert:hover {\n",
              "      background-color: #E2EBFA;\n",
              "      box-shadow: 0px 1px 2px rgba(60, 64, 67, 0.3), 0px 1px 3px 1px rgba(60, 64, 67, 0.15);\n",
              "      fill: #174EA6;\n",
              "    }\n",
              "\n",
              "    [theme=dark] .colab-df-convert {\n",
              "      background-color: #3B4455;\n",
              "      fill: #D2E3FC;\n",
              "    }\n",
              "\n",
              "    [theme=dark] .colab-df-convert:hover {\n",
              "      background-color: #434B5C;\n",
              "      box-shadow: 0px 1px 3px 1px rgba(0, 0, 0, 0.15);\n",
              "      filter: drop-shadow(0px 1px 2px rgba(0, 0, 0, 0.3));\n",
              "      fill: #FFFFFF;\n",
              "    }\n",
              "  </style>\n",
              "\n",
              "      <script>\n",
              "        const buttonEl =\n",
              "          document.querySelector('#df-5f480317-f4c8-431e-a94b-8754609b0263 button.colab-df-convert');\n",
              "        buttonEl.style.display =\n",
              "          google.colab.kernel.accessAllowed ? 'block' : 'none';\n",
              "\n",
              "        async function convertToInteractive(key) {\n",
              "          const element = document.querySelector('#df-5f480317-f4c8-431e-a94b-8754609b0263');\n",
              "          const dataTable =\n",
              "            await google.colab.kernel.invokeFunction('convertToInteractive',\n",
              "                                                     [key], {});\n",
              "          if (!dataTable) return;\n",
              "\n",
              "          const docLinkHtml = 'Like what you see? Visit the ' +\n",
              "            '<a target=\"_blank\" href=https://colab.research.google.com/notebooks/data_table.ipynb>data table notebook</a>'\n",
              "            + ' to learn more about interactive tables.';\n",
              "          element.innerHTML = '';\n",
              "          dataTable['output_type'] = 'display_data';\n",
              "          await google.colab.output.renderOutput(dataTable, element);\n",
              "          const docLink = document.createElement('div');\n",
              "          docLink.innerHTML = docLinkHtml;\n",
              "          element.appendChild(docLink);\n",
              "        }\n",
              "      </script>\n",
              "    </div>\n",
              "  </div>\n",
              "  "
            ]
          },
          "metadata": {},
          "execution_count": 14
        }
      ],
      "source": [
        "df.describe()\n"
      ]
    },
    {
      "cell_type": "markdown",
      "metadata": {
        "id": "4FyjjDPiYIL5"
      },
      "source": [
        "Removing outliers "
      ]
    },
    {
      "cell_type": "code",
      "execution_count": 15,
      "metadata": {
        "colab": {
          "base_uri": "https://localhost:8080/",
          "height": 294
        },
        "id": "7Liw7wCoYLSM",
        "outputId": "485b10ab-44be-4bbd-f317-e2081a183b5b"
      },
      "outputs": [
        {
          "output_type": "execute_result",
          "data": {
            "text/plain": [
              "<matplotlib.axes._subplots.AxesSubplot at 0x7f5d33ce4450>"
            ]
          },
          "metadata": {},
          "execution_count": 15
        },
        {
          "output_type": "display_data",
          "data": {
            "text/plain": [
              "<Figure size 432x288 with 1 Axes>"
            ],
            "image/png": "[encoded data removed]"
          },
          "metadata": {
            "needs_background": "light"
          }
        }
      ],
      "source": [
        "import seaborn as sns\n",
        "sns.boxplot(data=df,orient=\"v\")"
      ]
    },
    {
      "cell_type": "code",
      "execution_count": 16,
      "metadata": {
        "id": "DQZiLshC983N"
      },
      "outputs": [],
      "source": [
        "Q1 = df.quantile(0.25)\n",
        "Q3 = df.quantile(0.95)\n",
        "IQR = Q3 - Q1\n"
      ]
    },
    {
      "cell_type": "code",
      "execution_count": 17,
      "metadata": {
        "id": "O0jC26Rk-PmQ"
      },
      "outputs": [],
      "source": [
        "# df = df[~((df < (Q1 - 1.5 * IQR)) |(df > (Q3 + 1.5 * IQR))).any(axis=1)]\n",
        "# df.shape"
      ]
    },
    {
      "cell_type": "markdown",
      "metadata": {
        "id": "3CN3cMPsWZlJ"
      },
      "source": [
        "Removing infinity and null values"
      ]
    },
    {
      "cell_type": "code",
      "execution_count": 18,
      "metadata": {
        "id": "rPMQt-XoU_zu"
      },
      "outputs": [],
      "source": [
        "import numpy as np\n",
        "df =df[~df.isin([np.nan, np.inf, -np.inf]).any(1)]"
      ]
    },
    {
      "cell_type": "markdown",
      "metadata": {
        "id": "RwkTXmLMNJcE"
      },
      "source": [
        "**Splitting data into training and test**"
      ]
    },
    {
      "cell_type": "code",
      "execution_count": 19,
      "metadata": {
        "id": "GDRfVXos0VO-"
      },
      "outputs": [],
      "source": [
        "y = df[' Label']"
      ]
    },
    {
      "cell_type": "code",
      "execution_count": 20,
      "metadata": {
        "colab": {
          "base_uri": "https://localhost:8080/"
        },
        "id": "d5ixLhYjpzz0",
        "outputId": "21bd1e78-d841-4887-c76a-31570eb49b83"
      },
      "outputs": [
        {
          "output_type": "execute_result",
          "data": {
            "text/plain": [
              "0         0\n",
              "1         0\n",
              "2         0\n",
              "3         0\n",
              "4         0\n",
              "         ..\n",
              "170360    0\n",
              "170361    0\n",
              "170362    0\n",
              "170363    0\n",
              "170365    0\n",
              "Name:  Label, Length: 161410, dtype: int64"
            ]
          },
          "metadata": {},
          "execution_count": 20
        }
      ],
      "source": [
        "y"
      ]
    },
    {
      "cell_type": "code",
      "execution_count": 21,
      "metadata": {
        "id": "sEECTcfl0ZEH"
      },
      "outputs": [],
      "source": [
        "X = df.drop([' Label'], axis = 1)"
      ]
    },
    {
      "cell_type": "markdown",
      "metadata": {
        "id": "DMg_Wr38N1N2"
      },
      "source": [
        "Feature Normalization"
      ]
    },
    {
      "cell_type": "code",
      "execution_count": 22,
      "metadata": {
        "id": "PRech1cxN5Aq"
      },
      "outputs": [],
      "source": [
        "from sklearn.preprocessing import MinMaxScaler\n",
        "norm = MinMaxScaler().fit(X)\n",
        "X = norm.transform(X)"
      ]
    },
    {
      "cell_type": "markdown",
      "metadata": {
        "id": "mDehMJ-MXnXd"
      },
      "source": [
        "**Training **"
      ]
    },
    {
      "cell_type": "markdown",
      "metadata": {
        "id": "88rxBwg3NOmG"
      },
      "source": [
        "Random Forest Classifier"
      ]
    },
    {
      "cell_type": "code",
      "execution_count": 23,
      "metadata": {
        "id": "Cbl8tmY3wQIs"
      },
      "outputs": [],
      "source": [
        "from sklearn.ensemble import RandomForestClassifier"
      ]
    },
    {
      "cell_type": "markdown",
      "metadata": {
        "id": "1K-pL3fbfsNn"
      },
      "source": [
        "stratified k fold cross validation"
      ]
    },
    {
      "cell_type": "code",
      "execution_count": 24,
      "metadata": {
        "id": "3ul9uv3ffqcK"
      },
      "outputs": [],
      "source": [
        "from sklearn.model_selection import StratifiedKFold\n",
        "skf = StratifiedKFold(n_splits=10, shuffle=True, random_state=1)\n",
        "lst_accu_stratified = []\n"
      ]
    },
    {
      "cell_type": "code",
      "execution_count": 25,
      "metadata": {
        "id": "ELU4GFgpycdN"
      },
      "outputs": [],
      "source": [
        "clf = RandomForestClassifier(n_estimators = 100) \n",
        "# clf.fit(X_train, y_train)\n",
        " \n",
        "# y_pred = clf.predict(X_test)"
      ]
    },
    {
      "cell_type": "code",
      "execution_count": 26,
      "metadata": {
        "colab": {
          "base_uri": "https://localhost:8080/"
        },
        "id": "V6D4rCee9q18",
        "outputId": "aa371d7d-9a47-4936-ce7e-0e3f36f553da"
      },
      "outputs": [
        {
          "output_type": "execute_result",
          "data": {
            "text/plain": [
              "(161410, 78)"
            ]
          },
          "metadata": {},
          "execution_count": 26
        }
      ],
      "source": [
        "X.shape"
      ]
    },
    {
      "cell_type": "code",
      "execution_count": 27,
      "metadata": {
        "colab": {
          "base_uri": "https://localhost:8080/",
          "height": 518
        },
        "id": "1Go4V1pogLjd",
        "outputId": "8bddf5d3-4a6f-44bd-fccd-11d8a7f9d350"
      },
      "outputs": [
        {
          "output_type": "error",
          "ename": "KeyError",
          "evalue": "ignored",
          "traceback": [
            "\u001b[0;31m---------------------------------------------------------------------------\u001b[0m",
            "\u001b[0;31mKeyError\u001b[0m                                  Traceback (most recent call last)",
            "\u001b[0;32m<ipython-input-27-a25aba05253b>\u001b[0m in \u001b[0;36m<module>\u001b[0;34m()\u001b[0m\n\u001b[1;32m      2\u001b[0m \u001b[0;32mfor\u001b[0m \u001b[0mtrain_index\u001b[0m\u001b[0;34m,\u001b[0m \u001b[0mtest_index\u001b[0m \u001b[0;32min\u001b[0m \u001b[0mskf\u001b[0m\u001b[0;34m.\u001b[0m\u001b[0msplit\u001b[0m\u001b[0;34m(\u001b[0m\u001b[0mX\u001b[0m\u001b[0;34m,\u001b[0m \u001b[0my\u001b[0m\u001b[0;34m)\u001b[0m\u001b[0;34m:\u001b[0m\u001b[0;34m\u001b[0m\u001b[0;34m\u001b[0m\u001b[0m\n\u001b[1;32m      3\u001b[0m   \u001b[0mx_train_fold\u001b[0m\u001b[0;34m,\u001b[0m \u001b[0mx_test_fold\u001b[0m \u001b[0;34m=\u001b[0m \u001b[0mX\u001b[0m\u001b[0;34m[\u001b[0m\u001b[0mtrain_index\u001b[0m\u001b[0;34m]\u001b[0m\u001b[0;34m,\u001b[0m \u001b[0mX\u001b[0m\u001b[0;34m[\u001b[0m\u001b[0mtest_index\u001b[0m\u001b[0;34m]\u001b[0m\u001b[0;34m\u001b[0m\u001b[0;34m\u001b[0m\u001b[0m\n\u001b[0;32m----> 4\u001b[0;31m   \u001b[0my_train_fold\u001b[0m\u001b[0;34m,\u001b[0m \u001b[0my_test_fold\u001b[0m \u001b[0;34m=\u001b[0m \u001b[0my\u001b[0m\u001b[0;34m[\u001b[0m\u001b[0mtrain_index\u001b[0m\u001b[0;34m]\u001b[0m\u001b[0;34m,\u001b[0m \u001b[0my\u001b[0m\u001b[0;34m[\u001b[0m\u001b[0mtest_index\u001b[0m\u001b[0;34m]\u001b[0m\u001b[0;34m\u001b[0m\u001b[0;34m\u001b[0m\u001b[0m\n\u001b[0m\u001b[1;32m      5\u001b[0m   \u001b[0mclf\u001b[0m\u001b[0;34m.\u001b[0m\u001b[0mfit\u001b[0m\u001b[0;34m(\u001b[0m\u001b[0mx_train_fold\u001b[0m\u001b[0;34m,\u001b[0m \u001b[0my_train_fold\u001b[0m\u001b[0;34m)\u001b[0m\u001b[0;34m\u001b[0m\u001b[0;34m\u001b[0m\u001b[0m\n\u001b[1;32m      6\u001b[0m   \u001b[0mlst_accu_stratified\u001b[0m\u001b[0;34m.\u001b[0m\u001b[0mappend\u001b[0m\u001b[0;34m(\u001b[0m\u001b[0mclf\u001b[0m\u001b[0;34m.\u001b[0m\u001b[0mscore\u001b[0m\u001b[0;34m(\u001b[0m\u001b[0mx_test_fold\u001b[0m\u001b[0;34m,\u001b[0m \u001b[0my_test_fold\u001b[0m\u001b[0;34m)\u001b[0m\u001b[0;34m)\u001b[0m\u001b[0;34m\u001b[0m\u001b[0;34m\u001b[0m\u001b[0m\n",
            "\u001b[0;32m/usr/local/lib/python3.7/dist-packages/pandas/core/series.py\u001b[0m in \u001b[0;36m__getitem__\u001b[0;34m(self, key)\u001b[0m\n\u001b[1;32m    964\u001b[0m             \u001b[0;32mreturn\u001b[0m \u001b[0mself\u001b[0m\u001b[0;34m.\u001b[0m\u001b[0m_get_values\u001b[0m\u001b[0;34m(\u001b[0m\u001b[0mkey\u001b[0m\u001b[0;34m)\u001b[0m\u001b[0;34m\u001b[0m\u001b[0;34m\u001b[0m\u001b[0m\n\u001b[1;32m    965\u001b[0m \u001b[0;34m\u001b[0m\u001b[0m\n\u001b[0;32m--> 966\u001b[0;31m         \u001b[0;32mreturn\u001b[0m \u001b[0mself\u001b[0m\u001b[0;34m.\u001b[0m\u001b[0m_get_with\u001b[0m\u001b[0;34m(\u001b[0m\u001b[0mkey\u001b[0m\u001b[0;34m)\u001b[0m\u001b[0;34m\u001b[0m\u001b[0;34m\u001b[0m\u001b[0m\n\u001b[0m\u001b[1;32m    967\u001b[0m \u001b[0;34m\u001b[0m\u001b[0m\n\u001b[1;32m    968\u001b[0m     \u001b[0;32mdef\u001b[0m \u001b[0m_get_with\u001b[0m\u001b[0;34m(\u001b[0m\u001b[0mself\u001b[0m\u001b[0;34m,\u001b[0m \u001b[0mkey\u001b[0m\u001b[0;34m)\u001b[0m\u001b[0;34m:\u001b[0m\u001b[0;34m\u001b[0m\u001b[0;34m\u001b[0m\u001b[0m\n",
            "\u001b[0;32m/usr/local/lib/python3.7/dist-packages/pandas/core/series.py\u001b[0m in \u001b[0;36m_get_with\u001b[0;34m(self, key)\u001b[0m\n\u001b[1;32m    999\u001b[0m             \u001b[0;31m#  (i.e. self.iloc) or label-based (i.e. self.loc)\u001b[0m\u001b[0;34m\u001b[0m\u001b[0;34m\u001b[0m\u001b[0;34m\u001b[0m\u001b[0m\n\u001b[1;32m   1000\u001b[0m             \u001b[0;32mif\u001b[0m \u001b[0;32mnot\u001b[0m \u001b[0mself\u001b[0m\u001b[0;34m.\u001b[0m\u001b[0mindex\u001b[0m\u001b[0;34m.\u001b[0m\u001b[0m_should_fallback_to_positional\u001b[0m\u001b[0;34m(\u001b[0m\u001b[0;34m)\u001b[0m\u001b[0;34m:\u001b[0m\u001b[0;34m\u001b[0m\u001b[0;34m\u001b[0m\u001b[0m\n\u001b[0;32m-> 1001\u001b[0;31m                 \u001b[0;32mreturn\u001b[0m \u001b[0mself\u001b[0m\u001b[0;34m.\u001b[0m\u001b[0mloc\u001b[0m\u001b[0;34m[\u001b[0m\u001b[0mkey\u001b[0m\u001b[0;34m]\u001b[0m\u001b[0;34m\u001b[0m\u001b[0;34m\u001b[0m\u001b[0m\n\u001b[0m\u001b[1;32m   1002\u001b[0m             \u001b[0;32melse\u001b[0m\u001b[0;34m:\u001b[0m\u001b[0;34m\u001b[0m\u001b[0;34m\u001b[0m\u001b[0m\n\u001b[1;32m   1003\u001b[0m                 \u001b[0;32mreturn\u001b[0m \u001b[0mself\u001b[0m\u001b[0;34m.\u001b[0m\u001b[0miloc\u001b[0m\u001b[0;34m[\u001b[0m\u001b[0mkey\u001b[0m\u001b[0;34m]\u001b[0m\u001b[0;34m\u001b[0m\u001b[0;34m\u001b[0m\u001b[0m\n",
            "\u001b[0;32m/usr/local/lib/python3.7/dist-packages/pandas/core/indexing.py\u001b[0m in \u001b[0;36m__getitem__\u001b[0;34m(self, key)\u001b[0m\n\u001b[1;32m    929\u001b[0m \u001b[0;34m\u001b[0m\u001b[0m\n\u001b[1;32m    930\u001b[0m             \u001b[0mmaybe_callable\u001b[0m \u001b[0;34m=\u001b[0m \u001b[0mcom\u001b[0m\u001b[0;34m.\u001b[0m\u001b[0mapply_if_callable\u001b[0m\u001b[0;34m(\u001b[0m\u001b[0mkey\u001b[0m\u001b[0;34m,\u001b[0m \u001b[0mself\u001b[0m\u001b[0;34m.\u001b[0m\u001b[0mobj\u001b[0m\u001b[0;34m)\u001b[0m\u001b[0;34m\u001b[0m\u001b[0;34m\u001b[0m\u001b[0m\n\u001b[0;32m--> 931\u001b[0;31m             \u001b[0;32mreturn\u001b[0m \u001b[0mself\u001b[0m\u001b[0;34m.\u001b[0m\u001b[0m_getitem_axis\u001b[0m\u001b[0;34m(\u001b[0m\u001b[0mmaybe_callable\u001b[0m\u001b[0;34m,\u001b[0m \u001b[0maxis\u001b[0m\u001b[0;34m=\u001b[0m\u001b[0maxis\u001b[0m\u001b[0;34m)\u001b[0m\u001b[0;34m\u001b[0m\u001b[0;34m\u001b[0m\u001b[0m\n\u001b[0m\u001b[1;32m    932\u001b[0m \u001b[0;34m\u001b[0m\u001b[0m\n\u001b[1;32m    933\u001b[0m     \u001b[0;32mdef\u001b[0m \u001b[0m_is_scalar_access\u001b[0m\u001b[0;34m(\u001b[0m\u001b[0mself\u001b[0m\u001b[0;34m,\u001b[0m \u001b[0mkey\u001b[0m\u001b[0;34m:\u001b[0m \u001b[0mtuple\u001b[0m\u001b[0;34m)\u001b[0m\u001b[0;34m:\u001b[0m\u001b[0;34m\u001b[0m\u001b[0;34m\u001b[0m\u001b[0m\n",
            "\u001b[0;32m/usr/local/lib/python3.7/dist-packages/pandas/core/indexing.py\u001b[0m in \u001b[0;36m_getitem_axis\u001b[0;34m(self, key, axis)\u001b[0m\n\u001b[1;32m   1151\u001b[0m                     \u001b[0;32mraise\u001b[0m \u001b[0mValueError\u001b[0m\u001b[0;34m(\u001b[0m\u001b[0;34m\"Cannot index with multidimensional key\"\u001b[0m\u001b[0;34m)\u001b[0m\u001b[0;34m\u001b[0m\u001b[0;34m\u001b[0m\u001b[0m\n\u001b[1;32m   1152\u001b[0m \u001b[0;34m\u001b[0m\u001b[0m\n\u001b[0;32m-> 1153\u001b[0;31m                 \u001b[0;32mreturn\u001b[0m \u001b[0mself\u001b[0m\u001b[0;34m.\u001b[0m\u001b[0m_getitem_iterable\u001b[0m\u001b[0;34m(\u001b[0m\u001b[0mkey\u001b[0m\u001b[0;34m,\u001b[0m \u001b[0maxis\u001b[0m\u001b[0;34m=\u001b[0m\u001b[0maxis\u001b[0m\u001b[0;34m)\u001b[0m\u001b[0;34m\u001b[0m\u001b[0;34m\u001b[0m\u001b[0m\n\u001b[0m\u001b[1;32m   1154\u001b[0m \u001b[0;34m\u001b[0m\u001b[0m\n\u001b[1;32m   1155\u001b[0m             \u001b[0;31m# nested tuple slicing\u001b[0m\u001b[0;34m\u001b[0m\u001b[0;34m\u001b[0m\u001b[0;34m\u001b[0m\u001b[0m\n",
            "\u001b[0;32m/usr/local/lib/python3.7/dist-packages/pandas/core/indexing.py\u001b[0m in \u001b[0;36m_getitem_iterable\u001b[0;34m(self, key, axis)\u001b[0m\n\u001b[1;32m   1091\u001b[0m \u001b[0;34m\u001b[0m\u001b[0m\n\u001b[1;32m   1092\u001b[0m         \u001b[0;31m# A collection of keys\u001b[0m\u001b[0;34m\u001b[0m\u001b[0;34m\u001b[0m\u001b[0;34m\u001b[0m\u001b[0m\n\u001b[0;32m-> 1093\u001b[0;31m         \u001b[0mkeyarr\u001b[0m\u001b[0;34m,\u001b[0m \u001b[0mindexer\u001b[0m \u001b[0;34m=\u001b[0m \u001b[0mself\u001b[0m\u001b[0;34m.\u001b[0m\u001b[0m_get_listlike_indexer\u001b[0m\u001b[0;34m(\u001b[0m\u001b[0mkey\u001b[0m\u001b[0;34m,\u001b[0m \u001b[0maxis\u001b[0m\u001b[0;34m)\u001b[0m\u001b[0;34m\u001b[0m\u001b[0;34m\u001b[0m\u001b[0m\n\u001b[0m\u001b[1;32m   1094\u001b[0m         return self.obj._reindex_with_indexers(\n\u001b[1;32m   1095\u001b[0m             \u001b[0;34m{\u001b[0m\u001b[0maxis\u001b[0m\u001b[0;34m:\u001b[0m \u001b[0;34m[\u001b[0m\u001b[0mkeyarr\u001b[0m\u001b[0;34m,\u001b[0m \u001b[0mindexer\u001b[0m\u001b[0;34m]\u001b[0m\u001b[0;34m}\u001b[0m\u001b[0;34m,\u001b[0m \u001b[0mcopy\u001b[0m\u001b[0;34m=\u001b[0m\u001b[0;32mTrue\u001b[0m\u001b[0;34m,\u001b[0m \u001b[0mallow_dups\u001b[0m\u001b[0;34m=\u001b[0m\u001b[0;32mTrue\u001b[0m\u001b[0;34m\u001b[0m\u001b[0;34m\u001b[0m\u001b[0m\n",
            "\u001b[0;32m/usr/local/lib/python3.7/dist-packages/pandas/core/indexing.py\u001b[0m in \u001b[0;36m_get_listlike_indexer\u001b[0;34m(self, key, axis)\u001b[0m\n\u001b[1;32m   1312\u001b[0m             \u001b[0mkeyarr\u001b[0m\u001b[0;34m,\u001b[0m \u001b[0mindexer\u001b[0m\u001b[0;34m,\u001b[0m \u001b[0mnew_indexer\u001b[0m \u001b[0;34m=\u001b[0m \u001b[0max\u001b[0m\u001b[0;34m.\u001b[0m\u001b[0m_reindex_non_unique\u001b[0m\u001b[0;34m(\u001b[0m\u001b[0mkeyarr\u001b[0m\u001b[0;34m)\u001b[0m\u001b[0;34m\u001b[0m\u001b[0;34m\u001b[0m\u001b[0m\n\u001b[1;32m   1313\u001b[0m \u001b[0;34m\u001b[0m\u001b[0m\n\u001b[0;32m-> 1314\u001b[0;31m         \u001b[0mself\u001b[0m\u001b[0;34m.\u001b[0m\u001b[0m_validate_read_indexer\u001b[0m\u001b[0;34m(\u001b[0m\u001b[0mkeyarr\u001b[0m\u001b[0;34m,\u001b[0m \u001b[0mindexer\u001b[0m\u001b[0;34m,\u001b[0m \u001b[0maxis\u001b[0m\u001b[0;34m)\u001b[0m\u001b[0;34m\u001b[0m\u001b[0;34m\u001b[0m\u001b[0m\n\u001b[0m\u001b[1;32m   1315\u001b[0m \u001b[0;34m\u001b[0m\u001b[0m\n\u001b[1;32m   1316\u001b[0m         if needs_i8_conversion(ax.dtype) or isinstance(\n",
            "\u001b[0;32m/usr/local/lib/python3.7/dist-packages/pandas/core/indexing.py\u001b[0m in \u001b[0;36m_validate_read_indexer\u001b[0;34m(self, key, indexer, axis)\u001b[0m\n\u001b[1;32m   1375\u001b[0m \u001b[0;34m\u001b[0m\u001b[0m\n\u001b[1;32m   1376\u001b[0m             \u001b[0mnot_found\u001b[0m \u001b[0;34m=\u001b[0m \u001b[0mlist\u001b[0m\u001b[0;34m(\u001b[0m\u001b[0mensure_index\u001b[0m\u001b[0;34m(\u001b[0m\u001b[0mkey\u001b[0m\u001b[0;34m)\u001b[0m\u001b[0;34m[\u001b[0m\u001b[0mmissing_mask\u001b[0m\u001b[0;34m.\u001b[0m\u001b[0mnonzero\u001b[0m\u001b[0;34m(\u001b[0m\u001b[0;34m)\u001b[0m\u001b[0;34m[\u001b[0m\u001b[0;36m0\u001b[0m\u001b[0;34m]\u001b[0m\u001b[0;34m]\u001b[0m\u001b[0;34m.\u001b[0m\u001b[0munique\u001b[0m\u001b[0;34m(\u001b[0m\u001b[0;34m)\u001b[0m\u001b[0;34m)\u001b[0m\u001b[0;34m\u001b[0m\u001b[0;34m\u001b[0m\u001b[0m\n\u001b[0;32m-> 1377\u001b[0;31m             \u001b[0;32mraise\u001b[0m \u001b[0mKeyError\u001b[0m\u001b[0;34m(\u001b[0m\u001b[0;34mf\"{not_found} not in index\"\u001b[0m\u001b[0;34m)\u001b[0m\u001b[0;34m\u001b[0m\u001b[0;34m\u001b[0m\u001b[0m\n\u001b[0m\u001b[1;32m   1378\u001b[0m \u001b[0;34m\u001b[0m\u001b[0m\n\u001b[1;32m   1379\u001b[0m \u001b[0;34m\u001b[0m\u001b[0m\n",
            "\u001b[0;31mKeyError\u001b[0m: '[13, 28, 29, 31, 37, 39, 40, 41, 45, 46, 48, 49, 52, 53, 54, 57, 63, 99, 100, 101, 107, 119, 124, 125, 135, 139, 154, 156, 159, 171, 173, 179, 181, 187, 200, 202, 209, 211, 213, 221, 270, 300, 304, 359, 374, 395, 397, 406, 408, 443, 454, 474, 495, 518, 521, 524, 558, 605, 607, 629, 692, 701, 746, 748, 756, 757, 765, 804, 827, 831, 842, 869, 870, 875, 877, 881, 882, 883, 887, 902, 904, 906, 912, 921, 925, 930, 943, 971, 975, 978, 980, 982, 984, 995, 1023, 1084, 1112, 1120, 1214, 1220, 1243, 1245, 1303, 1309, 1310, 1328, 1406, 1447, 1521, 1583, 1613, 1632, 1635, 1640, 1658, 1664, 1666, 1670, 1671, 1672, 1688, 1702, 1703, 1708, 1717, 1720, 1726, 1738, 1739, 1749, 1757, 1759, 1761, 1764, 1765, 1770, 1772, 1790, 1854, 1869, 1874, 1895, 1918, 1970, 1971, 1972, 2021, 2024, 2027, 2030, 2034, 2036, 2040, 2042, 2098, 2100, 2105, 2108, 2113, 2151, 2179, 2185, 2187, 2207, 2233, 2235, 2237, 2239, 2242, 2244, 2245, 2246, 2247, 2376, 2438, 2439, 2460, 2465, 2469, 2472, 2560, 2598, 2606, 2609, 2615, 2634, 2717, 2719, 2736, 2742, 2779, 2796, 2869, 2889, 2891, 2892, 2901, 2905, 2930, 2941, 3050, 3067, 3068, 3093, 3129, 3167, 3173, 3197, 3208, 3213, 3304, 3370, 3417, 3468, 3473, 3478, 3484, 3485, 3486, 3645, 3722, 3798, 3853, 3938, 3978, 4027, 4153, 4165, 4341, 4466, 4476, 4482, 4510, 4523, 4586, 4618, 4625, 4640, 4646, 4647, 4656, 4670, 4753, 4771, 4912, 4914, 4932, 4953, 4978, 5000, 5003, 5006, 5011, 5012, 5013, 5016, 5017, 5019, 5026, 5041, 5093, 5125, 5187, 5188, 52..."
          ]
        }
      ],
      "source": [
        "  \n",
        "for train_index, test_index in skf.split(X, y):\n",
        "    x_train_fold, x_test_fold = X[train_index], X[test_index]\n",
        "    y_train_fold, y_test_fold = y[train_index], y[test_index]\n",
        "    clf.fit(x_train_fold, y_train_fold)\n",
        "    lst_accu_stratified.append(clf.score(x_test_fold, y_test_fold))"
      ]
    },
    {
      "cell_type": "markdown",
      "metadata": {
        "id": "yf2otiXRgpQO"
      },
      "source": [
        "Accuracy"
      ]
    },
    {
      "cell_type": "code",
      "execution_count": null,
      "metadata": {
        "id": "cFp7YjEOgsFB"
      },
      "outputs": [],
      "source": [
        "lst_accu_stratified"
      ]
    },
    {
      "cell_type": "code",
      "execution_count": null,
      "metadata": {
        "id": "U5G6fIIJXQyw"
      },
      "outputs": [],
      "source": [
        "# y_pred"
      ]
    },
    {
      "cell_type": "code",
      "execution_count": null,
      "metadata": {
        "id": "3VH-stfXYnGn"
      },
      "outputs": [],
      "source": [
        "# from sklearn import metrics"
      ]
    },
    {
      "cell_type": "code",
      "execution_count": null,
      "metadata": {
        "id": "3RXEzPk7_lRC"
      },
      "outputs": [],
      "source": [
        "# metrics.accuracy_score(y_test, y_pred)"
      ]
    },
    {
      "cell_type": "markdown",
      "metadata": {
        "id": "OsLO5m4g5ZH1"
      },
      "source": [
        "**Feature Selection**"
      ]
    },
    {
      "cell_type": "markdown",
      "metadata": {
        "id": "Ni43YT-JmR8h"
      },
      "source": [
        "**AutoEncoder**"
      ]
    },
    {
      "cell_type": "code",
      "execution_count": 28,
      "metadata": {
        "id": "UmnfTxgyr_W3"
      },
      "outputs": [],
      "source": [
        "import tensorflow as tf\n",
        "import matplotlib.pyplot as plt\n",
        "import seaborn as sns"
      ]
    },
    {
      "cell_type": "code",
      "execution_count": 29,
      "metadata": {
        "colab": {
          "base_uri": "https://localhost:8080/"
        },
        "id": "aMDci-IGkP5x",
        "outputId": "5c90eae0-9f3d-446d-992c-366b2acc30ac"
      },
      "outputs": [
        {
          "output_type": "execute_result",
          "data": {
            "text/plain": [
              "array([0, 1, 3, 2])"
            ]
          },
          "metadata": {},
          "execution_count": 29
        }
      ],
      "source": [
        "y.unique()"
      ]
    },
    {
      "cell_type": "code",
      "execution_count": 30,
      "metadata": {
        "colab": {
          "base_uri": "https://localhost:8080/",
          "height": 352
        },
        "id": "S6lytmMjtBWT",
        "outputId": "60675a90-870d-43ee-9b8c-429f3ce7140d"
      },
      "outputs": [
        {
          "output_type": "execute_result",
          "data": {
            "text/plain": [
              "([<matplotlib.axis.XTick at 0x7f5cc63f34d0>,\n",
              "  <matplotlib.axis.XTick at 0x7f5cc63f3490>,\n",
              "  <matplotlib.axis.XTick at 0x7f5cc64893d0>,\n",
              "  <matplotlib.axis.XTick at 0x7f5cc63b3b50>],\n",
              " [Text(0, 0, '0'), Text(0, 0, '1'), Text(0, 0, '3'), Text(0, 0, '2')])"
            ]
          },
          "metadata": {},
          "execution_count": 30
        },
        {
          "output_type": "display_data",
          "data": {
            "text/plain": [
              "<Figure size 432x288 with 1 Axes>"
            ],
            "image/png": "[encoded data removed]"
          },
          "metadata": {
            "needs_background": "light"
          }
        }
      ],
      "source": [
        "#Visualizing the imbalanced dataset\n",
        "count_classes = pd.value_counts(y, sort = True)\n",
        "count_classes.plot(kind = 'bar', rot=0)\n",
        "plt.xticks(range(len(y.unique())), y.unique())"
      ]
    },
    {
      "cell_type": "code",
      "execution_count": 31,
      "metadata": {
        "id": "tZlNqTgfYEgR"
      },
      "outputs": [],
      "source": [
        "normal_df = df[y == 0]"
      ]
    },
    {
      "cell_type": "code",
      "execution_count": 32,
      "metadata": {
        "colab": {
          "base_uri": "https://localhost:8080/",
          "height": 540
        },
        "id": "SIerqiLDlqCr",
        "outputId": "137963cf-f929-40af-b0ce-7aa4b39edb4d"
      },
      "outputs": [
        {
          "output_type": "execute_result",
          "data": {
            "text/plain": [
              "         Destination Port   Flow Duration   Total Fwd Packets  \\\n",
              "0                     389       113095465                  48   \n",
              "1                     389       113473706                  68   \n",
              "2                       0       119945515                 150   \n",
              "3                     443        60261928                   9   \n",
              "4                      53             269                   2   \n",
              "...                   ...             ...                 ...   \n",
              "170360                443             181                   3   \n",
              "170361              55641              49                   1   \n",
              "170362              45337             217                   2   \n",
              "170363                 22         1387547                  41   \n",
              "170365              60146              50                   1   \n",
              "\n",
              "         Total Backward Packets  Total Length of Fwd Packets  \\\n",
              "0                            24                         9668   \n",
              "1                            40                        11364   \n",
              "2                             0                            0   \n",
              "3                             7                         2330   \n",
              "4                             2                          102   \n",
              "...                         ...                          ...   \n",
              "170360                        1                           18   \n",
              "170361                        3                            6   \n",
              "170362                        1                           31   \n",
              "170363                       46                         2728   \n",
              "170365                        2                            0   \n",
              "\n",
              "         Total Length of Bwd Packets   Fwd Packet Length Max  \\\n",
              "0                              10012                     403   \n",
              "1                              12718                     403   \n",
              "2                                  0                       0   \n",
              "3                               4221                    1093   \n",
              "4                                322                      51   \n",
              "...                              ...                     ...   \n",
              "170360                             6                       6   \n",
              "170361                            18                       6   \n",
              "170362                             6                      31   \n",
              "170363                          6634                     456   \n",
              "170365                             0                       0   \n",
              "\n",
              "         Fwd Packet Length Min   Fwd Packet Length Mean  \\\n",
              "0                            0               201.416667   \n",
              "1                            0               167.117647   \n",
              "2                            0                 0.000000   \n",
              "3                            0               258.888889   \n",
              "4                           51                51.000000   \n",
              "...                        ...                      ...   \n",
              "170360                       6                 6.000000   \n",
              "170361                       6                 6.000000   \n",
              "170362                       0                15.500000   \n",
              "170363                       0                66.536585   \n",
              "170365                       0                 0.000000   \n",
              "\n",
              "         Fwd Packet Length Std  ...   min_seg_size_forward  Active Mean  \\\n",
              "0                   203.548293  ...                     32   203985.500   \n",
              "1                   171.919413  ...                     32   178326.875   \n",
              "2                     0.000000  ...                      0  6909777.333   \n",
              "3                   409.702161  ...                     20        0.000   \n",
              "4                     0.000000  ...                     32        0.000   \n",
              "...                        ...  ...                    ...          ...   \n",
              "170360                0.000000  ...                     20        0.000   \n",
              "170361                0.000000  ...                     20        0.000   \n",
              "170362               21.920310  ...                     32        0.000   \n",
              "170363              110.129945  ...                     32        0.000   \n",
              "170365                0.000000  ...                     32        0.000   \n",
              "\n",
              "          Active Std   Active Max   Active Min   Idle Mean      Idle Std  \\\n",
              "0       5.758373e+05      1629110          379  13800000.0  4.277541e+06   \n",
              "1       5.034269e+05      1424245          325  13800000.0  4.229413e+06   \n",
              "2       1.170000e+07     20400000            6  24400000.0  2.430000e+07   \n",
              "3       0.000000e+00            0            0         0.0  0.000000e+00   \n",
              "4       0.000000e+00            0            0         0.0  0.000000e+00   \n",
              "...              ...          ...          ...         ...           ...   \n",
              "170360  0.000000e+00            0            0         0.0  0.000000e+00   \n",
              "170361  0.000000e+00            0            0         0.0  0.000000e+00   \n",
              "170362  0.000000e+00            0            0         0.0  0.000000e+00   \n",
              "170363  0.000000e+00            0            0         0.0  0.000000e+00   \n",
              "170365  0.000000e+00            0            0         0.0  0.000000e+00   \n",
              "\n",
              "         Idle Max   Idle Min   Label  \n",
              "0        16500000    6737603       0  \n",
              "1        16500000    6945512       0  \n",
              "2        60100000    5702188       0  \n",
              "3               0          0       0  \n",
              "4               0          0       0  \n",
              "...           ...        ...     ...  \n",
              "170360          0          0       0  \n",
              "170361          0          0       0  \n",
              "170362          0          0       0  \n",
              "170363          0          0       0  \n",
              "170365          0          0       0  \n",
              "\n",
              "[159292 rows x 79 columns]"
            ],
            "text/html": [
              "\n",
              "  <div id=\"df-681a2116-fb17-473c-b192-3ebbfb526628\">\n",
              "    <div class=\"colab-df-container\">\n",
              "      <div>\n",
              "<style scoped>\n",
              "    .dataframe tbody tr th:only-of-type {\n",
              "        vertical-align: middle;\n",
              "    }\n",
              "\n",
              "    .dataframe tbody tr th {\n",
              "        vertical-align: top;\n",
              "    }\n",
              "\n",
              "    .dataframe thead th {\n",
              "        text-align: right;\n",
              "    }\n",
              "</style>\n",
              "<table border=\"1\" class=\"dataframe\">\n",
              "  <thead>\n",
              "    <tr style=\"text-align: right;\">\n",
              "      <th></th>\n",
              "      <th>Destination Port</th>\n",
              "      <th>Flow Duration</th>\n",
              "      <th>Total Fwd Packets</th>\n",
              "      <th>Total Backward Packets</th>\n",
              "      <th>Total Length of Fwd Packets</th>\n",
              "      <th>Total Length of Bwd Packets</th>\n",
              "      <th>Fwd Packet Length Max</th>\n",
              "      <th>Fwd Packet Length Min</th>\n",
              "      <th>Fwd Packet Length Mean</th>\n",
              "      <th>Fwd Packet Length Std</th>\n",
              "      <th>...</th>\n",
              "      <th>min_seg_size_forward</th>\n",
              "      <th>Active Mean</th>\n",
              "      <th>Active Std</th>\n",
              "      <th>Active Max</th>\n",
              "      <th>Active Min</th>\n",
              "      <th>Idle Mean</th>\n",
              "      <th>Idle Std</th>\n",
              "      <th>Idle Max</th>\n",
              "      <th>Idle Min</th>\n",
              "      <th>Label</th>\n",
              "    </tr>\n",
              "  </thead>\n",
              "  <tbody>\n",
              "    <tr>\n",
              "      <th>0</th>\n",
              "      <td>389</td>\n",
              "      <td>113095465</td>\n",
              "      <td>48</td>\n",
              "      <td>24</td>\n",
              "      <td>9668</td>\n",
              "      <td>10012</td>\n",
              "      <td>403</td>\n",
              "      <td>0</td>\n",
              "      <td>201.416667</td>\n",
              "      <td>203.548293</td>\n",
              "      <td>...</td>\n",
              "      <td>32</td>\n",
              "      <td>203985.500</td>\n",
              "      <td>5.758373e+05</td>\n",
              "      <td>1629110</td>\n",
              "      <td>379</td>\n",
              "      <td>13800000.0</td>\n",
              "      <td>4.277541e+06</td>\n",
              "      <td>16500000</td>\n",
              "      <td>6737603</td>\n",
              "      <td>0</td>\n",
              "    </tr>\n",
              "    <tr>\n",
              "      <th>1</th>\n",
              "      <td>389</td>\n",
              "      <td>113473706</td>\n",
              "      <td>68</td>\n",
              "      <td>40</td>\n",
              "      <td>11364</td>\n",
              "      <td>12718</td>\n",
              "      <td>403</td>\n",
              "      <td>0</td>\n",
              "      <td>167.117647</td>\n",
              "      <td>171.919413</td>\n",
              "      <td>...</td>\n",
              "      <td>32</td>\n",
              "      <td>178326.875</td>\n",
              "      <td>5.034269e+05</td>\n",
              "      <td>1424245</td>\n",
              "      <td>325</td>\n",
              "      <td>13800000.0</td>\n",
              "      <td>4.229413e+06</td>\n",
              "      <td>16500000</td>\n",
              "      <td>6945512</td>\n",
              "      <td>0</td>\n",
              "    </tr>\n",
              "    <tr>\n",
              "      <th>2</th>\n",
              "      <td>0</td>\n",
              "      <td>119945515</td>\n",
              "      <td>150</td>\n",
              "      <td>0</td>\n",
              "      <td>0</td>\n",
              "      <td>0</td>\n",
              "      <td>0</td>\n",
              "      <td>0</td>\n",
              "      <td>0.000000</td>\n",
              "      <td>0.000000</td>\n",
              "      <td>...</td>\n",
              "      <td>0</td>\n",
              "      <td>6909777.333</td>\n",
              "      <td>1.170000e+07</td>\n",
              "      <td>20400000</td>\n",
              "      <td>6</td>\n",
              "      <td>24400000.0</td>\n",
              "      <td>2.430000e+07</td>\n",
              "      <td>60100000</td>\n",
              "      <td>5702188</td>\n",
              "      <td>0</td>\n",
              "    </tr>\n",
              "    <tr>\n",
              "      <th>3</th>\n",
              "      <td>443</td>\n",
              "      <td>60261928</td>\n",
              "      <td>9</td>\n",
              "      <td>7</td>\n",
              "      <td>2330</td>\n",
              "      <td>4221</td>\n",
              "      <td>1093</td>\n",
              "      <td>0</td>\n",
              "      <td>258.888889</td>\n",
              "      <td>409.702161</td>\n",
              "      <td>...</td>\n",
              "      <td>20</td>\n",
              "      <td>0.000</td>\n",
              "      <td>0.000000e+00</td>\n",
              "      <td>0</td>\n",
              "      <td>0</td>\n",
              "      <td>0.0</td>\n",
              "      <td>0.000000e+00</td>\n",
              "      <td>0</td>\n",
              "      <td>0</td>\n",
              "      <td>0</td>\n",
              "    </tr>\n",
              "    <tr>\n",
              "      <th>4</th>\n",
              "      <td>53</td>\n",
              "      <td>269</td>\n",
              "      <td>2</td>\n",
              "      <td>2</td>\n",
              "      <td>102</td>\n",
              "      <td>322</td>\n",
              "      <td>51</td>\n",
              "      <td>51</td>\n",
              "      <td>51.000000</td>\n",
              "      <td>0.000000</td>\n",
              "      <td>...</td>\n",
              "      <td>32</td>\n",
              "      <td>0.000</td>\n",
              "      <td>0.000000e+00</td>\n",
              "      <td>0</td>\n",
              "      <td>0</td>\n",
              "      <td>0.0</td>\n",
              "      <td>0.000000e+00</td>\n",
              "      <td>0</td>\n",
              "      <td>0</td>\n",
              "      <td>0</td>\n",
              "    </tr>\n",
              "    <tr>\n",
              "      <th>...</th>\n",
              "      <td>...</td>\n",
              "      <td>...</td>\n",
              "      <td>...</td>\n",
              "      <td>...</td>\n",
              "      <td>...</td>\n",
              "      <td>...</td>\n",
              "      <td>...</td>\n",
              "      <td>...</td>\n",
              "      <td>...</td>\n",
              "      <td>...</td>\n",
              "      <td>...</td>\n",
              "      <td>...</td>\n",
              "      <td>...</td>\n",
              "      <td>...</td>\n",
              "      <td>...</td>\n",
              "      <td>...</td>\n",
              "      <td>...</td>\n",
              "      <td>...</td>\n",
              "      <td>...</td>\n",
              "      <td>...</td>\n",
              "      <td>...</td>\n",
              "    </tr>\n",
              "    <tr>\n",
              "      <th>170360</th>\n",
              "      <td>443</td>\n",
              "      <td>181</td>\n",
              "      <td>3</td>\n",
              "      <td>1</td>\n",
              "      <td>18</td>\n",
              "      <td>6</td>\n",
              "      <td>6</td>\n",
              "      <td>6</td>\n",
              "      <td>6.000000</td>\n",
              "      <td>0.000000</td>\n",
              "      <td>...</td>\n",
              "      <td>20</td>\n",
              "      <td>0.000</td>\n",
              "      <td>0.000000e+00</td>\n",
              "      <td>0</td>\n",
              "      <td>0</td>\n",
              "      <td>0.0</td>\n",
              "      <td>0.000000e+00</td>\n",
              "      <td>0</td>\n",
              "      <td>0</td>\n",
              "      <td>0</td>\n",
              "    </tr>\n",
              "    <tr>\n",
              "      <th>170361</th>\n",
              "      <td>55641</td>\n",
              "      <td>49</td>\n",
              "      <td>1</td>\n",
              "      <td>3</td>\n",
              "      <td>6</td>\n",
              "      <td>18</td>\n",
              "      <td>6</td>\n",
              "      <td>6</td>\n",
              "      <td>6.000000</td>\n",
              "      <td>0.000000</td>\n",
              "      <td>...</td>\n",
              "      <td>20</td>\n",
              "      <td>0.000</td>\n",
              "      <td>0.000000e+00</td>\n",
              "      <td>0</td>\n",
              "      <td>0</td>\n",
              "      <td>0.0</td>\n",
              "      <td>0.000000e+00</td>\n",
              "      <td>0</td>\n",
              "      <td>0</td>\n",
              "      <td>0</td>\n",
              "    </tr>\n",
              "    <tr>\n",
              "      <th>170362</th>\n",
              "      <td>45337</td>\n",
              "      <td>217</td>\n",
              "      <td>2</td>\n",
              "      <td>1</td>\n",
              "      <td>31</td>\n",
              "      <td>6</td>\n",
              "      <td>31</td>\n",
              "      <td>0</td>\n",
              "      <td>15.500000</td>\n",
              "      <td>21.920310</td>\n",
              "      <td>...</td>\n",
              "      <td>32</td>\n",
              "      <td>0.000</td>\n",
              "      <td>0.000000e+00</td>\n",
              "      <td>0</td>\n",
              "      <td>0</td>\n",
              "      <td>0.0</td>\n",
              "      <td>0.000000e+00</td>\n",
              "      <td>0</td>\n",
              "      <td>0</td>\n",
              "      <td>0</td>\n",
              "    </tr>\n",
              "    <tr>\n",
              "      <th>170363</th>\n",
              "      <td>22</td>\n",
              "      <td>1387547</td>\n",
              "      <td>41</td>\n",
              "      <td>46</td>\n",
              "      <td>2728</td>\n",
              "      <td>6634</td>\n",
              "      <td>456</td>\n",
              "      <td>0</td>\n",
              "      <td>66.536585</td>\n",
              "      <td>110.129945</td>\n",
              "      <td>...</td>\n",
              "      <td>32</td>\n",
              "      <td>0.000</td>\n",
              "      <td>0.000000e+00</td>\n",
              "      <td>0</td>\n",
              "      <td>0</td>\n",
              "      <td>0.0</td>\n",
              "      <td>0.000000e+00</td>\n",
              "      <td>0</td>\n",
              "      <td>0</td>\n",
              "      <td>0</td>\n",
              "    </tr>\n",
              "    <tr>\n",
              "      <th>170365</th>\n",
              "      <td>60146</td>\n",
              "      <td>50</td>\n",
              "      <td>1</td>\n",
              "      <td>2</td>\n",
              "      <td>0</td>\n",
              "      <td>0</td>\n",
              "      <td>0</td>\n",
              "      <td>0</td>\n",
              "      <td>0.000000</td>\n",
              "      <td>0.000000</td>\n",
              "      <td>...</td>\n",
              "      <td>32</td>\n",
              "      <td>0.000</td>\n",
              "      <td>0.000000e+00</td>\n",
              "      <td>0</td>\n",
              "      <td>0</td>\n",
              "      <td>0.0</td>\n",
              "      <td>0.000000e+00</td>\n",
              "      <td>0</td>\n",
              "      <td>0</td>\n",
              "      <td>0</td>\n",
              "    </tr>\n",
              "  </tbody>\n",
              "</table>\n",
              "<p>159292 rows × 79 columns</p>\n",
              "</div>\n",
              "      <button class=\"colab-df-convert\" onclick=\"convertToInteractive('df-681a2116-fb17-473c-b192-3ebbfb526628')\"\n",
              "              title=\"Convert this dataframe to an interactive table.\"\n",
              "              style=\"display:none;\">\n",
              "        \n",
              "  <svg xmlns=\"http://www.w3.org/2000/svg\" height=\"24px\"viewBox=\"0 0 24 24\"\n",
              "       width=\"24px\">\n",
              "    <path d=\"M0 0h24v24H0V0z\" fill=\"none\"/>\n",
              "    <path d=\"M18.56 5.44l.94 2.06.94-2.06 2.06-.94-2.06-.94-.94-2.06-.94 2.06-2.06.94zm-11 1L8.5 8.5l.94-2.06 2.06-.94-2.06-.94L8.5 2.5l-.94 2.06-2.06.94zm10 10l.94 2.06.94-2.06 2.06-.94-2.06-.94-.94-2.06-.94 2.06-2.06.94z\"/><path d=\"M17.41 7.96l-1.37-1.37c-.4-.4-.92-.59-1.43-.59-.52 0-1.04.2-1.43.59L10.3 9.45l-7.72 7.72c-.78.78-.78 2.05 0 2.83L4 21.41c.39.39.9.59 1.41.59.51 0 1.02-.2 1.41-.59l7.78-7.78 2.81-2.81c.8-.78.8-2.07 0-2.86zM5.41 20L4 18.59l7.72-7.72 1.47 1.35L5.41 20z\"/>\n",
              "  </svg>\n",
              "      </button>\n",
              "      \n",
              "  <style>\n",
              "    .colab-df-container {\n",
              "      display:flex;\n",
              "      flex-wrap:wrap;\n",
              "      gap: 12px;\n",
              "    }\n",
              "\n",
              "    .colab-df-convert {\n",
              "      background-color: #E8F0FE;\n",
              "      border: none;\n",
              "      border-radius: 50%;\n",
              "      cursor: pointer;\n",
              "      display: none;\n",
              "      fill: #1967D2;\n",
              "      height: 32px;\n",
              "      padding: 0 0 0 0;\n",
              "      width: 32px;\n",
              "    }\n",
              "\n",
              "    .colab-df-convert:hover {\n",
              "      background-color: #E2EBFA;\n",
              "      box-shadow: 0px 1px 2px rgba(60, 64, 67, 0.3), 0px 1px 3px 1px rgba(60, 64, 67, 0.15);\n",
              "      fill: #174EA6;\n",
              "    }\n",
              "\n",
              "    [theme=dark] .colab-df-convert {\n",
              "      background-color: #3B4455;\n",
              "      fill: #D2E3FC;\n",
              "    }\n",
              "\n",
              "    [theme=dark] .colab-df-convert:hover {\n",
              "      background-color: #434B5C;\n",
              "      box-shadow: 0px 1px 3px 1px rgba(0, 0, 0, 0.15);\n",
              "      filter: drop-shadow(0px 1px 2px rgba(0, 0, 0, 0.3));\n",
              "      fill: #FFFFFF;\n",
              "    }\n",
              "  </style>\n",
              "\n",
              "      <script>\n",
              "        const buttonEl =\n",
              "          document.querySelector('#df-681a2116-fb17-473c-b192-3ebbfb526628 button.colab-df-convert');\n",
              "        buttonEl.style.display =\n",
              "          google.colab.kernel.accessAllowed ? 'block' : 'none';\n",
              "\n",
              "        async function convertToInteractive(key) {\n",
              "          const element = document.querySelector('#df-681a2116-fb17-473c-b192-3ebbfb526628');\n",
              "          const dataTable =\n",
              "            await google.colab.kernel.invokeFunction('convertToInteractive',\n",
              "                                                     [key], {});\n",
              "          if (!dataTable) return;\n",
              "\n",
              "          const docLinkHtml = 'Like what you see? Visit the ' +\n",
              "            '<a target=\"_blank\" href=https://colab.research.google.com/notebooks/data_table.ipynb>data table notebook</a>'\n",
              "            + ' to learn more about interactive tables.';\n",
              "          element.innerHTML = '';\n",
              "          dataTable['output_type'] = 'display_data';\n",
              "          await google.colab.output.renderOutput(dataTable, element);\n",
              "          const docLink = document.createElement('div');\n",
              "          docLink.innerHTML = docLinkHtml;\n",
              "          element.appendChild(docLink);\n",
              "        }\n",
              "      </script>\n",
              "    </div>\n",
              "  </div>\n",
              "  "
            ]
          },
          "metadata": {},
          "execution_count": 32
        }
      ],
      "source": [
        "normal_df"
      ]
    },
    {
      "cell_type": "code",
      "execution_count": 33,
      "metadata": {
        "id": "kfvlVdpeyo0e"
      },
      "outputs": [],
      "source": [
        "from sklearn.model_selection import train_test_split\n",
        "X_train, X_test, y_train, y_test = train_test_split(X, y, test_size = 0.30)"
      ]
    },
    {
      "cell_type": "code",
      "execution_count": 34,
      "metadata": {
        "id": "7s6N7235zxQP"
      },
      "outputs": [],
      "source": [
        "train_labels = y_train.astype(bool)\n",
        "test_labels = y_test.astype(bool)\n",
        "normal_train_data = X_train[~train_labels]\n",
        "normal_test_data = X_test[~test_labels]\n",
        "fraud_train_data = X_train[train_labels]\n",
        "fraud_test_data = X_test[test_labels]"
      ]
    },
    {
      "cell_type": "code",
      "execution_count": 35,
      "metadata": {
        "id": "8ltoxJp91Xp3"
      },
      "outputs": [],
      "source": [
        "nb_epoch = 50\n",
        "batch_size = 64\n",
        "input_dim = normal_train_data.shape[1] #num of columns, 30\n",
        "encoding_dim = 14\n",
        "hidden_dim_1 = int(encoding_dim / 2) #\n",
        "hidden_dim_2=4  \n",
        "learning_rate = 1e-7"
      ]
    },
    {
      "cell_type": "code",
      "execution_count": 36,
      "metadata": {
        "colab": {
          "base_uri": "https://localhost:8080/"
        },
        "id": "9xmVhkq_1cNW",
        "outputId": "8ed817cd-1e38-4b45-97ae-c3f4d5be4b93"
      },
      "outputs": [
        {
          "output_type": "stream",
          "name": "stdout",
          "text": [
            "Model: \"model\"\n",
            "_________________________________________________________________\n",
            " Layer (type)                Output Shape              Param #   \n",
            "=================================================================\n",
            " input_1 (InputLayer)        [(None, 78)]              0         \n",
            "                                                                 \n",
            " dense (Dense)               (None, 14)                1106      \n",
            "                                                                 \n",
            " dropout (Dropout)           (None, 14)                0         \n",
            "                                                                 \n",
            " dense_1 (Dense)             (None, 7)                 105       \n",
            "                                                                 \n",
            " dense_2 (Dense)             (None, 4)                 32        \n",
            "                                                                 \n",
            " dense_3 (Dense)             (None, 7)                 35        \n",
            "                                                                 \n",
            " dropout_1 (Dropout)         (None, 7)                 0         \n",
            "                                                                 \n",
            " dense_4 (Dense)             (None, 14)                112       \n",
            "                                                                 \n",
            " dense_5 (Dense)             (None, 78)                1170      \n",
            "                                                                 \n",
            "=================================================================\n",
            "Total params: 2,560\n",
            "Trainable params: 2,560\n",
            "Non-trainable params: 0\n",
            "_________________________________________________________________\n"
          ]
        }
      ],
      "source": [
        "#input Layer\n",
        "input_layer = tf.keras.layers.Input(shape=(input_dim, ))\n",
        "#Encoder\n",
        "encoder = tf.keras.layers.Dense(encoding_dim, activation=\"tanh\",                                activity_regularizer=tf.keras.regularizers.l2(learning_rate))(input_layer)\n",
        "encoder=tf.keras.layers.Dropout(0.2)(encoder)\n",
        "encoder = tf.keras.layers.Dense(hidden_dim_1, activation='relu')(encoder)\n",
        "encoder = tf.keras.layers.Dense(hidden_dim_2, activation=tf.nn.leaky_relu)(encoder)\n",
        "# Decoder\n",
        "decoder = tf.keras.layers.Dense(hidden_dim_1, activation='relu')(encoder)\n",
        "decoder=tf.keras.layers.Dropout(0.2)(decoder)\n",
        "decoder = tf.keras.layers.Dense(encoding_dim, activation='relu')(decoder)\n",
        "decoder = tf.keras.layers.Dense(input_dim, activation='tanh')(decoder)\n",
        "#Autoencoder\n",
        "autoencoder = tf.keras.Model(inputs=input_layer, outputs=decoder)\n",
        "autoencoder.summary()"
      ]
    },
    {
      "cell_type": "code",
      "execution_count": 37,
      "metadata": {
        "id": "di1LPYgY1v2o"
      },
      "outputs": [],
      "source": [
        "cp = tf.keras.callbacks.ModelCheckpoint(filepath=\"autoencoder_fraud.h5\",\n",
        "                               mode='min', monitor='val_loss', verbose=2, save_best_only=True)\n",
        "# define our early stopping\n",
        "early_stop = tf.keras.callbacks.EarlyStopping(\n",
        "    monitor='val_loss',\n",
        "    min_delta=0.0001,\n",
        "    patience=10,\n",
        "    verbose=1, \n",
        "    mode='min',\n",
        "    restore_best_weights=True)"
      ]
    },
    {
      "cell_type": "code",
      "execution_count": 38,
      "metadata": {
        "id": "116HKEsh15lM"
      },
      "outputs": [],
      "source": [
        "autoencoder.compile(metrics=['accuracy'],\n",
        "                    loss='mean_squared_error',\n",
        "                    optimizer='adam')"
      ]
    },
    {
      "cell_type": "code",
      "execution_count": 39,
      "metadata": {
        "colab": {
          "base_uri": "https://localhost:8080/",
          "height": 799
        },
        "id": "QsF2-YLa1_EX",
        "outputId": "76ee783b-3982-4b73-dab9-1b5ec21af44e"
      },
      "outputs": [
        {
          "output_type": "stream",
          "name": "stdout",
          "text": [
            "Epoch 1/50\n",
            "1743/1743 [==============================] - ETA: 0s - loss: 0.0070 - accuracy: 0.5787WARNING:tensorflow:Model was constructed with shape (None, 78) for input KerasTensor(type_spec=TensorSpec(shape=(None, 78), dtype=tf.float32, name='input_1'), name='input_1', description=\"created by layer 'input_1'\"), but it was called on an input with incompatible shape (None, 1).\n"
          ]
        },
        {
          "output_type": "error",
          "ename": "ValueError",
          "evalue": "ignored",
          "traceback": [
            "\u001b[0;31m---------------------------------------------------------------------------\u001b[0m",
            "\u001b[0;31mValueError\u001b[0m                                Traceback (most recent call last)",
            "\u001b[0;32m<ipython-input-39-a104ccb11450>\u001b[0m in \u001b[0;36m<module>\u001b[0;34m()\u001b[0m\n\u001b[1;32m      5\u001b[0m                     \u001b[0mvalidation_data\u001b[0m\u001b[0;34m=\u001b[0m\u001b[0;34m(\u001b[0m\u001b[0my_test\u001b[0m\u001b[0;34m,\u001b[0m \u001b[0my_test\u001b[0m\u001b[0;34m)\u001b[0m\u001b[0;34m,\u001b[0m\u001b[0;34m\u001b[0m\u001b[0;34m\u001b[0m\u001b[0m\n\u001b[1;32m      6\u001b[0m                     \u001b[0mverbose\u001b[0m\u001b[0;34m=\u001b[0m\u001b[0;36m1\u001b[0m\u001b[0;34m,\u001b[0m\u001b[0;34m\u001b[0m\u001b[0;34m\u001b[0m\u001b[0m\n\u001b[0;32m----> 7\u001b[0;31m                     \u001b[0mcallbacks\u001b[0m\u001b[0;34m=\u001b[0m\u001b[0;34m[\u001b[0m\u001b[0mcp\u001b[0m\u001b[0;34m,\u001b[0m \u001b[0mearly_stop\u001b[0m\u001b[0;34m]\u001b[0m\u001b[0;34m\u001b[0m\u001b[0;34m\u001b[0m\u001b[0m\n\u001b[0m\u001b[1;32m      8\u001b[0m                     ).history\n",
            "\u001b[0;32m/usr/local/lib/python3.7/dist-packages/keras/utils/traceback_utils.py\u001b[0m in \u001b[0;36merror_handler\u001b[0;34m(*args, **kwargs)\u001b[0m\n\u001b[1;32m     65\u001b[0m     \u001b[0;32mexcept\u001b[0m \u001b[0mException\u001b[0m \u001b[0;32mas\u001b[0m \u001b[0me\u001b[0m\u001b[0;34m:\u001b[0m  \u001b[0;31m# pylint: disable=broad-except\u001b[0m\u001b[0;34m\u001b[0m\u001b[0;34m\u001b[0m\u001b[0m\n\u001b[1;32m     66\u001b[0m       \u001b[0mfiltered_tb\u001b[0m \u001b[0;34m=\u001b[0m \u001b[0m_process_traceback_frames\u001b[0m\u001b[0;34m(\u001b[0m\u001b[0me\u001b[0m\u001b[0;34m.\u001b[0m\u001b[0m__traceback__\u001b[0m\u001b[0;34m)\u001b[0m\u001b[0;34m\u001b[0m\u001b[0;34m\u001b[0m\u001b[0m\n\u001b[0;32m---> 67\u001b[0;31m       \u001b[0;32mraise\u001b[0m \u001b[0me\u001b[0m\u001b[0;34m.\u001b[0m\u001b[0mwith_traceback\u001b[0m\u001b[0;34m(\u001b[0m\u001b[0mfiltered_tb\u001b[0m\u001b[0;34m)\u001b[0m \u001b[0;32mfrom\u001b[0m \u001b[0;32mNone\u001b[0m\u001b[0;34m\u001b[0m\u001b[0;34m\u001b[0m\u001b[0m\n\u001b[0m\u001b[1;32m     68\u001b[0m     \u001b[0;32mfinally\u001b[0m\u001b[0;34m:\u001b[0m\u001b[0;34m\u001b[0m\u001b[0;34m\u001b[0m\u001b[0m\n\u001b[1;32m     69\u001b[0m       \u001b[0;32mdel\u001b[0m \u001b[0mfiltered_tb\u001b[0m\u001b[0;34m\u001b[0m\u001b[0;34m\u001b[0m\u001b[0m\n",
            "\u001b[0;32m/usr/local/lib/python3.7/dist-packages/tensorflow/python/framework/func_graph.py\u001b[0m in \u001b[0;36mautograph_handler\u001b[0;34m(*args, **kwargs)\u001b[0m\n\u001b[1;32m   1145\u001b[0m           \u001b[0;32mexcept\u001b[0m \u001b[0mException\u001b[0m \u001b[0;32mas\u001b[0m \u001b[0me\u001b[0m\u001b[0;34m:\u001b[0m  \u001b[0;31m# pylint:disable=broad-except\u001b[0m\u001b[0;34m\u001b[0m\u001b[0;34m\u001b[0m\u001b[0m\n\u001b[1;32m   1146\u001b[0m             \u001b[0;32mif\u001b[0m \u001b[0mhasattr\u001b[0m\u001b[0;34m(\u001b[0m\u001b[0me\u001b[0m\u001b[0;34m,\u001b[0m \u001b[0;34m\"ag_error_metadata\"\u001b[0m\u001b[0;34m)\u001b[0m\u001b[0;34m:\u001b[0m\u001b[0;34m\u001b[0m\u001b[0;34m\u001b[0m\u001b[0m\n\u001b[0;32m-> 1147\u001b[0;31m               \u001b[0;32mraise\u001b[0m \u001b[0me\u001b[0m\u001b[0;34m.\u001b[0m\u001b[0mag_error_metadata\u001b[0m\u001b[0;34m.\u001b[0m\u001b[0mto_exception\u001b[0m\u001b[0;34m(\u001b[0m\u001b[0me\u001b[0m\u001b[0;34m)\u001b[0m\u001b[0;34m\u001b[0m\u001b[0;34m\u001b[0m\u001b[0m\n\u001b[0m\u001b[1;32m   1148\u001b[0m             \u001b[0;32melse\u001b[0m\u001b[0;34m:\u001b[0m\u001b[0;34m\u001b[0m\u001b[0;34m\u001b[0m\u001b[0m\n\u001b[1;32m   1149\u001b[0m               \u001b[0;32mraise\u001b[0m\u001b[0;34m\u001b[0m\u001b[0;34m\u001b[0m\u001b[0m\n",
            "\u001b[0;31mValueError\u001b[0m: in user code:\n\n    File \"/usr/local/lib/python3.7/dist-packages/keras/engine/training.py\", line 1525, in test_function  *\n        return step_function(self, iterator)\n    File \"/usr/local/lib/python3.7/dist-packages/keras/engine/training.py\", line 1514, in step_function  **\n        outputs = model.distribute_strategy.run(run_step, args=(data,))\n    File \"/usr/local/lib/python3.7/dist-packages/keras/engine/training.py\", line 1507, in run_step  **\n        outputs = model.test_step(data)\n    File \"/usr/local/lib/python3.7/dist-packages/keras/engine/training.py\", line 1471, in test_step\n        y_pred = self(x, training=False)\n    File \"/usr/local/lib/python3.7/dist-packages/keras/utils/traceback_utils.py\", line 67, in error_handler\n        raise e.with_traceback(filtered_tb) from None\n    File \"/usr/local/lib/python3.7/dist-packages/keras/engine/input_spec.py\", line 249, in assert_input_compatibility\n        f'Input {input_index} of layer \"{layer_name}\" is '\n\n    ValueError: Exception encountered when calling layer \"model\" (type Functional).\n    \n    Input 0 of layer \"dense\" is incompatible with the layer: expected axis -1 of input shape to have value 78, but received input with shape (None, 1)\n    \n    Call arguments received:\n      • inputs=tf.Tensor(shape=(None, 1), dtype=int64)\n      • training=False\n      • mask=None\n"
          ]
        }
      ],
      "source": [
        "history = autoencoder.fit(normal_train_data, normal_train_data,\n",
        "                    epochs=nb_epoch,\n",
        "                    batch_size=batch_size,\n",
        "                    shuffle=True,\n",
        "                    validation_data=(y_test, y_test),\n",
        "                    verbose=1,\n",
        "                    callbacks=[cp, early_stop]\n",
        "                    ).history"
      ]
    },
    {
      "cell_type": "code",
      "execution_count": null,
      "metadata": {
        "id": "-q6jMz9F2PnR"
      },
      "outputs": [],
      "source": [
        "test_x_predictions = autoencoder.predict(X_test)\n",
        "mse = np.mean(np.power(y_test - test_x_predictions, 2), axis=1)\n",
        "error_df = pd.DataFrame({'Reconstruction_error': mse})"
      ]
    },
    {
      "cell_type": "code",
      "execution_count": null,
      "metadata": {
        "id": "HKX4pHOn_fAs"
      },
      "outputs": [],
      "source": [
        "threshold_fixed = 50\n",
        "groups = error_df.groupby('True_class')\n",
        "fig, ax = plt.subplots()\n",
        "for name, group in groups:\n",
        "    ax.plot(group.index, group.Reconstruction_error, marker='o', ms=3.5, linestyle='',\n",
        "            label= \"Fraud\" if name == 1 else \"Normal\")\n",
        "ax.hlines(threshold_fixed, ax.get_xlim()[0], ax.get_xlim()[1], colors=\"r\", zorder=100, label='Threshold')\n",
        "ax.legend()\n",
        "plt.title(\"Reconstruction error for normal and fraud data\")\n",
        "plt.ylabel(\"Reconstruction error\")\n",
        "plt.xlabel(\"Data point index\")\n",
        "plt.show();"
      ]
    },
    {
      "cell_type": "code",
      "execution_count": null,
      "metadata": {
        "id": "MvBmsuZ-Bwa6"
      },
      "outputs": [],
      "source": [
        "threshold_fixed =52\n",
        "pred_y = [1 if e > threshold_fixed else 0 for e in error_df.Reconstruction_error.values]\n",
        "error_df['pred'] =pred_y\n",
        "conf_matrix = confusion_matrix(error_df.True_class, pred_y)\n",
        "plt.figure(figsize=(4, 4))\n",
        "sns.heatmap(conf_matrix, xticklabels=LABELS, yticklabels=LABELS, annot=True, fmt=\"d\");\n",
        "plt.title(\"Confusion matrix\")\n",
        "plt.ylabel('True class')\n",
        "plt.xlabel('Predicted class')\n",
        "plt.show()\n",
        "# print Accuracy, precision and recall\n",
        "print(\" Accuracy: \",accuracy_score(error_df['True_class'], error_df['pred']))\n",
        "print(\" Recall: \",recall_score(error_df['True_class'], error_df['pred']))\n",
        "print(\" Precision: \",precision_score(error_df['True_class'], error_df['pred']))"
      ]
    },
    {
      "cell_type": "markdown",
      "metadata": {
        "id": "B4DgnBBD9ceK"
      },
      "source": [
        "Random forest classifier\n"
      ]
    },
    {
      "cell_type": "code",
      "execution_count": 40,
      "metadata": {
        "colab": {
          "base_uri": "https://localhost:8080/"
        },
        "id": "dSzRSs0ASZRG",
        "outputId": "874c9c54-6f5a-4227-f4af-e21f72d03313"
      },
      "outputs": [
        {
          "output_type": "stream",
          "name": "stdout",
          "text": [
            "Int64Index([0, 1, 4, 16, 17, 18, 20, 21, 22, 23, 24, 34, 39, 40, 46, 53, 55,\n",
            "            62, 66, 67, 68],\n",
            "           dtype='int64')\n"
          ]
        }
      ],
      "source": [
        "# to print the important features\n",
        "import pandas as pd\n",
        "# from sklearn.ensemble import RandomForestClassfier\n",
        "from sklearn.feature_selection import SelectFromModel\n",
        "\n",
        "#selectFromModel object from sklearn to automatically select the features.\n",
        "sel = SelectFromModel(RandomForestClassifier(n_estimators = 100))\n",
        "sel.fit(X, y)\n",
        "\n",
        "#To see which features are important we can use get_support method on the fitted model.\n",
        "sel.get_support()\n",
        "\n",
        "selected_feat= pd.DataFrame(X_train).columns[(sel.get_support())]\n",
        "len(selected_feat)\n",
        "\n",
        "print(selected_feat)"
      ]
    },
    {
      "cell_type": "markdown",
      "metadata": {
        "id": "Qp9sLgaA5YM2"
      },
      "source": [
        "PCA"
      ]
    },
    {
      "cell_type": "code",
      "execution_count": 41,
      "metadata": {
        "colab": {
          "base_uri": "https://localhost:8080/"
        },
        "id": "zY-CtTnw5hol",
        "outputId": "92e54103-d1d9-401b-8999-e71cda640642"
      },
      "outputs": [
        {
          "output_type": "stream",
          "name": "stdout",
          "text": [
            "[0.3842592  0.21638894 0.11752217 0.08417709 0.0404149  0.03317659\n",
            " 0.03073869 0.02090074 0.01881185 0.01323417 0.00884656 0.00780258\n",
            " 0.00451637 0.00426905]\n"
          ]
        }
      ],
      "source": [
        "# Applying PCA function on training\n",
        "# and testing set of X component\n",
        "from sklearn.decomposition import PCA\n",
        "import seaborn as sns \n",
        "pca = PCA(n_components = 14)\n",
        "\n",
        "X_train = pca.fit_transform(X_train)\n",
        "X_test = pca.transform(X_test)\n",
        "\n",
        "explained_variance = pca.explained_variance_ratio_\n",
        "print(explained_variance)"
      ]
    },
    {
      "cell_type": "code",
      "execution_count": 42,
      "metadata": {
        "colab": {
          "base_uri": "https://localhost:8080/",
          "height": 487
        },
        "id": "88BlIrvkhc4W",
        "outputId": "036cf802-48eb-4c6a-ab9f-5b7bace9135b"
      },
      "outputs": [
        {
          "output_type": "execute_result",
          "data": {
            "text/plain": [
              "              0         1         2         3         4         5         6   \\\n",
              "0      -0.424912  3.062723  0.027874  0.003277  1.146952 -0.006633  0.480831   \n",
              "1      -0.424912  3.074308  0.045207  0.013698  1.361084 -0.005872  0.480831   \n",
              "2      -0.445806  3.272541  0.116275 -0.012355 -0.073701 -0.009449 -0.371881   \n",
              "3      -0.422011  1.444422 -0.005926 -0.007795  0.220478 -0.008261  1.940811   \n",
              "4      -0.442959 -0.401403 -0.011993 -0.011052 -0.060822 -0.009358 -0.263970   \n",
              "...          ...       ...       ...       ...       ...       ...       ...   \n",
              "161405 -0.422011 -0.401406 -0.011126 -0.011703 -0.071428 -0.009447 -0.359186   \n",
              "161406  2.542826 -0.401410 -0.012860 -0.010401 -0.072943 -0.009443 -0.359186   \n",
              "161407  1.989370 -0.401405 -0.011993 -0.011703 -0.069787 -0.009447 -0.306288   \n",
              "161408 -0.444624 -0.358910  0.021807  0.017605  0.270729 -0.007583  0.592975   \n",
              "161409  2.784802 -0.401410 -0.012860 -0.011052 -0.073701 -0.009449 -0.371881   \n",
              "\n",
              "              7         8         9   ...        68        69         70  \\\n",
              "0      -0.587742  1.561826  1.057532  ...  0.009464  0.998648   0.197715   \n",
              "1      -0.587742  1.208943  0.839963  ...  0.023912  0.998648   0.157299   \n",
              "2      -0.587742 -0.510436 -0.342635  ... -0.011306 -4.022580  10.760222   \n",
              "3      -0.587742  2.153125  2.475621  ... -0.004081 -0.884312  -0.123589   \n",
              "4       0.733159  0.014274 -0.342635  ... -0.010403  0.998648  -0.123589   \n",
              "...          ...       ...       ...  ...       ...       ...        ...   \n",
              "161405 -0.432341 -0.448706 -0.342635  ... -0.009500 -0.884312  -0.123589   \n",
              "161406 -0.432341 -0.448706 -0.342635  ... -0.011306 -0.884312  -0.123589   \n",
              "161407 -0.587742 -0.350966 -0.191850  ... -0.011306  0.998648  -0.123589   \n",
              "161408 -0.587742  0.174121  0.414926  ...  0.010367  0.998648  -0.123589   \n",
              "161409 -0.587742 -0.510436 -0.342635  ... -0.011306  0.998648  -0.123589   \n",
              "\n",
              "               71         72        73        74         75        76  \\\n",
              "0        1.389545   1.423526 -0.091213  0.746563   2.324177  0.923537   \n",
              "1        1.198432   1.223138 -0.091307  0.746563   2.297153  0.923537   \n",
              "2       30.749545  19.784174 -0.091861  1.544443  13.566875  4.140012   \n",
              "3       -0.130262  -0.169980 -0.091871 -0.292185  -0.077681 -0.293707   \n",
              "4       -0.130262  -0.169980 -0.091871 -0.292185  -0.077681 -0.293707   \n",
              "...           ...        ...       ...       ...        ...       ...   \n",
              "161405  -0.130262  -0.169980 -0.091871 -0.292185  -0.077681 -0.293707   \n",
              "161406  -0.130262  -0.169980 -0.091871 -0.292185  -0.077681 -0.293707   \n",
              "161407  -0.130262  -0.169980 -0.091871 -0.292185  -0.077681 -0.293707   \n",
              "161408  -0.130262  -0.169980 -0.091871 -0.292185  -0.077681 -0.293707   \n",
              "161409  -0.130262  -0.169980 -0.091871 -0.292185  -0.077681 -0.293707   \n",
              "\n",
              "              77  \n",
              "0       0.229233  \n",
              "1       0.245060  \n",
              "2       0.150412  \n",
              "3      -0.283667  \n",
              "4      -0.283667  \n",
              "...          ...  \n",
              "161405 -0.283667  \n",
              "161406 -0.283667  \n",
              "161407 -0.283667  \n",
              "161408 -0.283667  \n",
              "161409 -0.283667  \n",
              "\n",
              "[161410 rows x 78 columns]"
            ],
            "text/html": [
              "\n",
              "  <div id=\"df-6759f078-97fa-4299-8a28-8ebdf9b993f6\">\n",
              "    <div class=\"colab-df-container\">\n",
              "      <div>\n",
              "<style scoped>\n",
              "    .dataframe tbody tr th:only-of-type {\n",
              "        vertical-align: middle;\n",
              "    }\n",
              "\n",
              "    .dataframe tbody tr th {\n",
              "        vertical-align: top;\n",
              "    }\n",
              "\n",
              "    .dataframe thead th {\n",
              "        text-align: right;\n",
              "    }\n",
              "</style>\n",
              "<table border=\"1\" class=\"dataframe\">\n",
              "  <thead>\n",
              "    <tr style=\"text-align: right;\">\n",
              "      <th></th>\n",
              "      <th>0</th>\n",
              "      <th>1</th>\n",
              "      <th>2</th>\n",
              "      <th>3</th>\n",
              "      <th>4</th>\n",
              "      <th>5</th>\n",
              "      <th>6</th>\n",
              "      <th>7</th>\n",
              "      <th>8</th>\n",
              "      <th>9</th>\n",
              "      <th>...</th>\n",
              "      <th>68</th>\n",
              "      <th>69</th>\n",
              "      <th>70</th>\n",
              "      <th>71</th>\n",
              "      <th>72</th>\n",
              "      <th>73</th>\n",
              "      <th>74</th>\n",
              "      <th>75</th>\n",
              "      <th>76</th>\n",
              "      <th>77</th>\n",
              "    </tr>\n",
              "  </thead>\n",
              "  <tbody>\n",
              "    <tr>\n",
              "      <th>0</th>\n",
              "      <td>-0.424912</td>\n",
              "      <td>3.062723</td>\n",
              "      <td>0.027874</td>\n",
              "      <td>0.003277</td>\n",
              "      <td>1.146952</td>\n",
              "      <td>-0.006633</td>\n",
              "      <td>0.480831</td>\n",
              "      <td>-0.587742</td>\n",
              "      <td>1.561826</td>\n",
              "      <td>1.057532</td>\n",
              "      <td>...</td>\n",
              "      <td>0.009464</td>\n",
              "      <td>0.998648</td>\n",
              "      <td>0.197715</td>\n",
              "      <td>1.389545</td>\n",
              "      <td>1.423526</td>\n",
              "      <td>-0.091213</td>\n",
              "      <td>0.746563</td>\n",
              "      <td>2.324177</td>\n",
              "      <td>0.923537</td>\n",
              "      <td>0.229233</td>\n",
              "    </tr>\n",
              "    <tr>\n",
              "      <th>1</th>\n",
              "      <td>-0.424912</td>\n",
              "      <td>3.074308</td>\n",
              "      <td>0.045207</td>\n",
              "      <td>0.013698</td>\n",
              "      <td>1.361084</td>\n",
              "      <td>-0.005872</td>\n",
              "      <td>0.480831</td>\n",
              "      <td>-0.587742</td>\n",
              "      <td>1.208943</td>\n",
              "      <td>0.839963</td>\n",
              "      <td>...</td>\n",
              "      <td>0.023912</td>\n",
              "      <td>0.998648</td>\n",
              "      <td>0.157299</td>\n",
              "      <td>1.198432</td>\n",
              "      <td>1.223138</td>\n",
              "      <td>-0.091307</td>\n",
              "      <td>0.746563</td>\n",
              "      <td>2.297153</td>\n",
              "      <td>0.923537</td>\n",
              "      <td>0.245060</td>\n",
              "    </tr>\n",
              "    <tr>\n",
              "      <th>2</th>\n",
              "      <td>-0.445806</td>\n",
              "      <td>3.272541</td>\n",
              "      <td>0.116275</td>\n",
              "      <td>-0.012355</td>\n",
              "      <td>-0.073701</td>\n",
              "      <td>-0.009449</td>\n",
              "      <td>-0.371881</td>\n",
              "      <td>-0.587742</td>\n",
              "      <td>-0.510436</td>\n",
              "      <td>-0.342635</td>\n",
              "      <td>...</td>\n",
              "      <td>-0.011306</td>\n",
              "      <td>-4.022580</td>\n",
              "      <td>10.760222</td>\n",
              "      <td>30.749545</td>\n",
              "      <td>19.784174</td>\n",
              "      <td>-0.091861</td>\n",
              "      <td>1.544443</td>\n",
              "      <td>13.566875</td>\n",
              "      <td>4.140012</td>\n",
              "      <td>0.150412</td>\n",
              "    </tr>\n",
              "    <tr>\n",
              "      <th>3</th>\n",
              "      <td>-0.422011</td>\n",
              "      <td>1.444422</td>\n",
              "      <td>-0.005926</td>\n",
              "      <td>-0.007795</td>\n",
              "      <td>0.220478</td>\n",
              "      <td>-0.008261</td>\n",
              "      <td>1.940811</td>\n",
              "      <td>-0.587742</td>\n",
              "      <td>2.153125</td>\n",
              "      <td>2.475621</td>\n",
              "      <td>...</td>\n",
              "      <td>-0.004081</td>\n",
              "      <td>-0.884312</td>\n",
              "      <td>-0.123589</td>\n",
              "      <td>-0.130262</td>\n",
              "      <td>-0.169980</td>\n",
              "      <td>-0.091871</td>\n",
              "      <td>-0.292185</td>\n",
              "      <td>-0.077681</td>\n",
              "      <td>-0.293707</td>\n",
              "      <td>-0.283667</td>\n",
              "    </tr>\n",
              "    <tr>\n",
              "      <th>4</th>\n",
              "      <td>-0.442959</td>\n",
              "      <td>-0.401403</td>\n",
              "      <td>-0.011993</td>\n",
              "      <td>-0.011052</td>\n",
              "      <td>-0.060822</td>\n",
              "      <td>-0.009358</td>\n",
              "      <td>-0.263970</td>\n",
              "      <td>0.733159</td>\n",
              "      <td>0.014274</td>\n",
              "      <td>-0.342635</td>\n",
              "      <td>...</td>\n",
              "      <td>-0.010403</td>\n",
              "      <td>0.998648</td>\n",
              "      <td>-0.123589</td>\n",
              "      <td>-0.130262</td>\n",
              "      <td>-0.169980</td>\n",
              "      <td>-0.091871</td>\n",
              "      <td>-0.292185</td>\n",
              "      <td>-0.077681</td>\n",
              "      <td>-0.293707</td>\n",
              "      <td>-0.283667</td>\n",
              "    </tr>\n",
              "    <tr>\n",
              "      <th>...</th>\n",
              "      <td>...</td>\n",
              "      <td>...</td>\n",
              "      <td>...</td>\n",
              "      <td>...</td>\n",
              "      <td>...</td>\n",
              "      <td>...</td>\n",
              "      <td>...</td>\n",
              "      <td>...</td>\n",
              "      <td>...</td>\n",
              "      <td>...</td>\n",
              "      <td>...</td>\n",
              "      <td>...</td>\n",
              "      <td>...</td>\n",
              "      <td>...</td>\n",
              "      <td>...</td>\n",
              "      <td>...</td>\n",
              "      <td>...</td>\n",
              "      <td>...</td>\n",
              "      <td>...</td>\n",
              "      <td>...</td>\n",
              "      <td>...</td>\n",
              "    </tr>\n",
              "    <tr>\n",
              "      <th>161405</th>\n",
              "      <td>-0.422011</td>\n",
              "      <td>-0.401406</td>\n",
              "      <td>-0.011126</td>\n",
              "      <td>-0.011703</td>\n",
              "      <td>-0.071428</td>\n",
              "      <td>-0.009447</td>\n",
              "      <td>-0.359186</td>\n",
              "      <td>-0.432341</td>\n",
              "      <td>-0.448706</td>\n",
              "      <td>-0.342635</td>\n",
              "      <td>...</td>\n",
              "      <td>-0.009500</td>\n",
              "      <td>-0.884312</td>\n",
              "      <td>-0.123589</td>\n",
              "      <td>-0.130262</td>\n",
              "      <td>-0.169980</td>\n",
              "      <td>-0.091871</td>\n",
              "      <td>-0.292185</td>\n",
              "      <td>-0.077681</td>\n",
              "      <td>-0.293707</td>\n",
              "      <td>-0.283667</td>\n",
              "    </tr>\n",
              "    <tr>\n",
              "      <th>161406</th>\n",
              "      <td>2.542826</td>\n",
              "      <td>-0.401410</td>\n",
              "      <td>-0.012860</td>\n",
              "      <td>-0.010401</td>\n",
              "      <td>-0.072943</td>\n",
              "      <td>-0.009443</td>\n",
              "      <td>-0.359186</td>\n",
              "      <td>-0.432341</td>\n",
              "      <td>-0.448706</td>\n",
              "      <td>-0.342635</td>\n",
              "      <td>...</td>\n",
              "      <td>-0.011306</td>\n",
              "      <td>-0.884312</td>\n",
              "      <td>-0.123589</td>\n",
              "      <td>-0.130262</td>\n",
              "      <td>-0.169980</td>\n",
              "      <td>-0.091871</td>\n",
              "      <td>-0.292185</td>\n",
              "      <td>-0.077681</td>\n",
              "      <td>-0.293707</td>\n",
              "      <td>-0.283667</td>\n",
              "    </tr>\n",
              "    <tr>\n",
              "      <th>161407</th>\n",
              "      <td>1.989370</td>\n",
              "      <td>-0.401405</td>\n",
              "      <td>-0.011993</td>\n",
              "      <td>-0.011703</td>\n",
              "      <td>-0.069787</td>\n",
              "      <td>-0.009447</td>\n",
              "      <td>-0.306288</td>\n",
              "      <td>-0.587742</td>\n",
              "      <td>-0.350966</td>\n",
              "      <td>-0.191850</td>\n",
              "      <td>...</td>\n",
              "      <td>-0.011306</td>\n",
              "      <td>0.998648</td>\n",
              "      <td>-0.123589</td>\n",
              "      <td>-0.130262</td>\n",
              "      <td>-0.169980</td>\n",
              "      <td>-0.091871</td>\n",
              "      <td>-0.292185</td>\n",
              "      <td>-0.077681</td>\n",
              "      <td>-0.293707</td>\n",
              "      <td>-0.283667</td>\n",
              "    </tr>\n",
              "    <tr>\n",
              "      <th>161408</th>\n",
              "      <td>-0.444624</td>\n",
              "      <td>-0.358910</td>\n",
              "      <td>0.021807</td>\n",
              "      <td>0.017605</td>\n",
              "      <td>0.270729</td>\n",
              "      <td>-0.007583</td>\n",
              "      <td>0.592975</td>\n",
              "      <td>-0.587742</td>\n",
              "      <td>0.174121</td>\n",
              "      <td>0.414926</td>\n",
              "      <td>...</td>\n",
              "      <td>0.010367</td>\n",
              "      <td>0.998648</td>\n",
              "      <td>-0.123589</td>\n",
              "      <td>-0.130262</td>\n",
              "      <td>-0.169980</td>\n",
              "      <td>-0.091871</td>\n",
              "      <td>-0.292185</td>\n",
              "      <td>-0.077681</td>\n",
              "      <td>-0.293707</td>\n",
              "      <td>-0.283667</td>\n",
              "    </tr>\n",
              "    <tr>\n",
              "      <th>161409</th>\n",
              "      <td>2.784802</td>\n",
              "      <td>-0.401410</td>\n",
              "      <td>-0.012860</td>\n",
              "      <td>-0.011052</td>\n",
              "      <td>-0.073701</td>\n",
              "      <td>-0.009449</td>\n",
              "      <td>-0.371881</td>\n",
              "      <td>-0.587742</td>\n",
              "      <td>-0.510436</td>\n",
              "      <td>-0.342635</td>\n",
              "      <td>...</td>\n",
              "      <td>-0.011306</td>\n",
              "      <td>0.998648</td>\n",
              "      <td>-0.123589</td>\n",
              "      <td>-0.130262</td>\n",
              "      <td>-0.169980</td>\n",
              "      <td>-0.091871</td>\n",
              "      <td>-0.292185</td>\n",
              "      <td>-0.077681</td>\n",
              "      <td>-0.293707</td>\n",
              "      <td>-0.283667</td>\n",
              "    </tr>\n",
              "  </tbody>\n",
              "</table>\n",
              "<p>161410 rows × 78 columns</p>\n",
              "</div>\n",
              "      <button class=\"colab-df-convert\" onclick=\"convertToInteractive('df-6759f078-97fa-4299-8a28-8ebdf9b993f6')\"\n",
              "              title=\"Convert this dataframe to an interactive table.\"\n",
              "              style=\"display:none;\">\n",
              "        \n",
              "  <svg xmlns=\"http://www.w3.org/2000/svg\" height=\"24px\"viewBox=\"0 0 24 24\"\n",
              "       width=\"24px\">\n",
              "    <path d=\"M0 0h24v24H0V0z\" fill=\"none\"/>\n",
              "    <path d=\"M18.56 5.44l.94 2.06.94-2.06 2.06-.94-2.06-.94-.94-2.06-.94 2.06-2.06.94zm-11 1L8.5 8.5l.94-2.06 2.06-.94-2.06-.94L8.5 2.5l-.94 2.06-2.06.94zm10 10l.94 2.06.94-2.06 2.06-.94-2.06-.94-.94-2.06-.94 2.06-2.06.94z\"/><path d=\"M17.41 7.96l-1.37-1.37c-.4-.4-.92-.59-1.43-.59-.52 0-1.04.2-1.43.59L10.3 9.45l-7.72 7.72c-.78.78-.78 2.05 0 2.83L4 21.41c.39.39.9.59 1.41.59.51 0 1.02-.2 1.41-.59l7.78-7.78 2.81-2.81c.8-.78.8-2.07 0-2.86zM5.41 20L4 18.59l7.72-7.72 1.47 1.35L5.41 20z\"/>\n",
              "  </svg>\n",
              "      </button>\n",
              "      \n",
              "  <style>\n",
              "    .colab-df-container {\n",
              "      display:flex;\n",
              "      flex-wrap:wrap;\n",
              "      gap: 12px;\n",
              "    }\n",
              "\n",
              "    .colab-df-convert {\n",
              "      background-color: #E8F0FE;\n",
              "      border: none;\n",
              "      border-radius: 50%;\n",
              "      cursor: pointer;\n",
              "      display: none;\n",
              "      fill: #1967D2;\n",
              "      height: 32px;\n",
              "      padding: 0 0 0 0;\n",
              "      width: 32px;\n",
              "    }\n",
              "\n",
              "    .colab-df-convert:hover {\n",
              "      background-color: #E2EBFA;\n",
              "      box-shadow: 0px 1px 2px rgba(60, 64, 67, 0.3), 0px 1px 3px 1px rgba(60, 64, 67, 0.15);\n",
              "      fill: #174EA6;\n",
              "    }\n",
              "\n",
              "    [theme=dark] .colab-df-convert {\n",
              "      background-color: #3B4455;\n",
              "      fill: #D2E3FC;\n",
              "    }\n",
              "\n",
              "    [theme=dark] .colab-df-convert:hover {\n",
              "      background-color: #434B5C;\n",
              "      box-shadow: 0px 1px 3px 1px rgba(0, 0, 0, 0.15);\n",
              "      filter: drop-shadow(0px 1px 2px rgba(0, 0, 0, 0.3));\n",
              "      fill: #FFFFFF;\n",
              "    }\n",
              "  </style>\n",
              "\n",
              "      <script>\n",
              "        const buttonEl =\n",
              "          document.querySelector('#df-6759f078-97fa-4299-8a28-8ebdf9b993f6 button.colab-df-convert');\n",
              "        buttonEl.style.display =\n",
              "          google.colab.kernel.accessAllowed ? 'block' : 'none';\n",
              "\n",
              "        async function convertToInteractive(key) {\n",
              "          const element = document.querySelector('#df-6759f078-97fa-4299-8a28-8ebdf9b993f6');\n",
              "          const dataTable =\n",
              "            await google.colab.kernel.invokeFunction('convertToInteractive',\n",
              "                                                     [key], {});\n",
              "          if (!dataTable) return;\n",
              "\n",
              "          const docLinkHtml = 'Like what you see? Visit the ' +\n",
              "            '<a target=\"_blank\" href=https://colab.research.google.com/notebooks/data_table.ipynb>data table notebook</a>'\n",
              "            + ' to learn more about interactive tables.';\n",
              "          element.innerHTML = '';\n",
              "          dataTable['output_type'] = 'display_data';\n",
              "          await google.colab.output.renderOutput(dataTable, element);\n",
              "          const docLink = document.createElement('div');\n",
              "          docLink.innerHTML = docLinkHtml;\n",
              "          element.appendChild(docLink);\n",
              "        }\n",
              "      </script>\n",
              "    </div>\n",
              "  </div>\n",
              "  "
            ]
          },
          "metadata": {},
          "execution_count": 42
        }
      ],
      "source": [
        "from sklearn.preprocessing import StandardScaler\n",
        "scalar = StandardScaler()\n",
        "scaled_data = pd.DataFrame(scalar.fit_transform(X)) #scaling the data\n",
        "scaled_data"
      ]
    },
    {
      "cell_type": "code",
      "execution_count": 43,
      "metadata": {
        "colab": {
          "base_uri": "https://localhost:8080/",
          "height": 615
        },
        "id": "GnfRjnOWdLqp",
        "outputId": "b531200f-cdf2-4bc2-c291-43c76f4e8e8b"
      },
      "outputs": [
        {
          "output_type": "execute_result",
          "data": {
            "text/plain": [
              "<matplotlib.axes._subplots.AxesSubplot at 0x7f5cbe917990>"
            ]
          },
          "metadata": {},
          "execution_count": 43
        },
        {
          "output_type": "display_data",
          "data": {
            "text/plain": [
              "<Figure size 720x720 with 2 Axes>"
            ],
            "image/png": "[encoded data removed]"
          },
          "metadata": {
            "needs_background": "light"
          }
        }
      ],
      "source": [
        "import matplotlib.pyplot as plt\n",
        "\n",
        "fig, ax = plt.subplots(figsize=(10,10))         # Sample figsize in inches\n",
        "sns.heatmap(scaled_data.corr(), annot=True, linewidths=.5, ax=ax)"
      ]
    },
    {
      "cell_type": "code",
      "execution_count": 44,
      "metadata": {
        "colab": {
          "base_uri": "https://localhost:8080/",
          "height": 206
        },
        "id": "4V14Ir8vbb1d",
        "outputId": "5e08ee83-55aa-4d4a-bb96-c53c0fe24c61"
      },
      "outputs": [
        {
          "output_type": "execute_result",
          "data": {
            "text/plain": [
              "        PC1       PC2       PC3       PC4       PC5        PC6       PC7  \\\n",
              "0  5.051916 -0.504819 -0.077375 -2.311624  1.980545   3.507982  0.745524   \n",
              "1  4.787069 -0.318526  0.070438 -3.323546  1.729053   3.069128  0.346550   \n",
              "2  8.750525 -2.620892  0.869763 -5.376843 -9.254928  24.278934  5.966930   \n",
              "3  7.085246 -1.148626 -2.367537 -0.398051  1.567235  -0.157457 -1.903101   \n",
              "4 -1.589140  0.317769  0.097342  2.117594 -0.047463   0.392632  0.370984   \n",
              "\n",
              "        PC8       PC9      PC10  \n",
              "0 -4.515306 -0.090847  0.885343  \n",
              "1 -4.120689 -0.134894  1.074379  \n",
              "2  7.854484  1.164228  2.158102  \n",
              "3 -0.937200  0.122635  0.078800  \n",
              "4 -0.538873  0.020334 -0.228893  "
            ],
            "text/html": [
              "\n",
              "  <div id=\"df-0375e472-4268-4c81-8b4b-e9c1e502fea4\">\n",
              "    <div class=\"colab-df-container\">\n",
              "      <div>\n",
              "<style scoped>\n",
              "    .dataframe tbody tr th:only-of-type {\n",
              "        vertical-align: middle;\n",
              "    }\n",
              "\n",
              "    .dataframe tbody tr th {\n",
              "        vertical-align: top;\n",
              "    }\n",
              "\n",
              "    .dataframe thead th {\n",
              "        text-align: right;\n",
              "    }\n",
              "</style>\n",
              "<table border=\"1\" class=\"dataframe\">\n",
              "  <thead>\n",
              "    <tr style=\"text-align: right;\">\n",
              "      <th></th>\n",
              "      <th>PC1</th>\n",
              "      <th>PC2</th>\n",
              "      <th>PC3</th>\n",
              "      <th>PC4</th>\n",
              "      <th>PC5</th>\n",
              "      <th>PC6</th>\n",
              "      <th>PC7</th>\n",
              "      <th>PC8</th>\n",
              "      <th>PC9</th>\n",
              "      <th>PC10</th>\n",
              "    </tr>\n",
              "  </thead>\n",
              "  <tbody>\n",
              "    <tr>\n",
              "      <th>0</th>\n",
              "      <td>5.051916</td>\n",
              "      <td>-0.504819</td>\n",
              "      <td>-0.077375</td>\n",
              "      <td>-2.311624</td>\n",
              "      <td>1.980545</td>\n",
              "      <td>3.507982</td>\n",
              "      <td>0.745524</td>\n",
              "      <td>-4.515306</td>\n",
              "      <td>-0.090847</td>\n",
              "      <td>0.885343</td>\n",
              "    </tr>\n",
              "    <tr>\n",
              "      <th>1</th>\n",
              "      <td>4.787069</td>\n",
              "      <td>-0.318526</td>\n",
              "      <td>0.070438</td>\n",
              "      <td>-3.323546</td>\n",
              "      <td>1.729053</td>\n",
              "      <td>3.069128</td>\n",
              "      <td>0.346550</td>\n",
              "      <td>-4.120689</td>\n",
              "      <td>-0.134894</td>\n",
              "      <td>1.074379</td>\n",
              "    </tr>\n",
              "    <tr>\n",
              "      <th>2</th>\n",
              "      <td>8.750525</td>\n",
              "      <td>-2.620892</td>\n",
              "      <td>0.869763</td>\n",
              "      <td>-5.376843</td>\n",
              "      <td>-9.254928</td>\n",
              "      <td>24.278934</td>\n",
              "      <td>5.966930</td>\n",
              "      <td>7.854484</td>\n",
              "      <td>1.164228</td>\n",
              "      <td>2.158102</td>\n",
              "    </tr>\n",
              "    <tr>\n",
              "      <th>3</th>\n",
              "      <td>7.085246</td>\n",
              "      <td>-1.148626</td>\n",
              "      <td>-2.367537</td>\n",
              "      <td>-0.398051</td>\n",
              "      <td>1.567235</td>\n",
              "      <td>-0.157457</td>\n",
              "      <td>-1.903101</td>\n",
              "      <td>-0.937200</td>\n",
              "      <td>0.122635</td>\n",
              "      <td>0.078800</td>\n",
              "    </tr>\n",
              "    <tr>\n",
              "      <th>4</th>\n",
              "      <td>-1.589140</td>\n",
              "      <td>0.317769</td>\n",
              "      <td>0.097342</td>\n",
              "      <td>2.117594</td>\n",
              "      <td>-0.047463</td>\n",
              "      <td>0.392632</td>\n",
              "      <td>0.370984</td>\n",
              "      <td>-0.538873</td>\n",
              "      <td>0.020334</td>\n",
              "      <td>-0.228893</td>\n",
              "    </tr>\n",
              "  </tbody>\n",
              "</table>\n",
              "</div>\n",
              "      <button class=\"colab-df-convert\" onclick=\"convertToInteractive('df-0375e472-4268-4c81-8b4b-e9c1e502fea4')\"\n",
              "              title=\"Convert this dataframe to an interactive table.\"\n",
              "              style=\"display:none;\">\n",
              "        \n",
              "  <svg xmlns=\"http://www.w3.org/2000/svg\" height=\"24px\"viewBox=\"0 0 24 24\"\n",
              "       width=\"24px\">\n",
              "    <path d=\"M0 0h24v24H0V0z\" fill=\"none\"/>\n",
              "    <path d=\"M18.56 5.44l.94 2.06.94-2.06 2.06-.94-2.06-.94-.94-2.06-.94 2.06-2.06.94zm-11 1L8.5 8.5l.94-2.06 2.06-.94-2.06-.94L8.5 2.5l-.94 2.06-2.06.94zm10 10l.94 2.06.94-2.06 2.06-.94-2.06-.94-.94-2.06-.94 2.06-2.06.94z\"/><path d=\"M17.41 7.96l-1.37-1.37c-.4-.4-.92-.59-1.43-.59-.52 0-1.04.2-1.43.59L10.3 9.45l-7.72 7.72c-.78.78-.78 2.05 0 2.83L4 21.41c.39.39.9.59 1.41.59.51 0 1.02-.2 1.41-.59l7.78-7.78 2.81-2.81c.8-.78.8-2.07 0-2.86zM5.41 20L4 18.59l7.72-7.72 1.47 1.35L5.41 20z\"/>\n",
              "  </svg>\n",
              "      </button>\n",
              "      \n",
              "  <style>\n",
              "    .colab-df-container {\n",
              "      display:flex;\n",
              "      flex-wrap:wrap;\n",
              "      gap: 12px;\n",
              "    }\n",
              "\n",
              "    .colab-df-convert {\n",
              "      background-color: #E8F0FE;\n",
              "      border: none;\n",
              "      border-radius: 50%;\n",
              "      cursor: pointer;\n",
              "      display: none;\n",
              "      fill: #1967D2;\n",
              "      height: 32px;\n",
              "      padding: 0 0 0 0;\n",
              "      width: 32px;\n",
              "    }\n",
              "\n",
              "    .colab-df-convert:hover {\n",
              "      background-color: #E2EBFA;\n",
              "      box-shadow: 0px 1px 2px rgba(60, 64, 67, 0.3), 0px 1px 3px 1px rgba(60, 64, 67, 0.15);\n",
              "      fill: #174EA6;\n",
              "    }\n",
              "\n",
              "    [theme=dark] .colab-df-convert {\n",
              "      background-color: #3B4455;\n",
              "      fill: #D2E3FC;\n",
              "    }\n",
              "\n",
              "    [theme=dark] .colab-df-convert:hover {\n",
              "      background-color: #434B5C;\n",
              "      box-shadow: 0px 1px 3px 1px rgba(0, 0, 0, 0.15);\n",
              "      filter: drop-shadow(0px 1px 2px rgba(0, 0, 0, 0.3));\n",
              "      fill: #FFFFFF;\n",
              "    }\n",
              "  </style>\n",
              "\n",
              "      <script>\n",
              "        const buttonEl =\n",
              "          document.querySelector('#df-0375e472-4268-4c81-8b4b-e9c1e502fea4 button.colab-df-convert');\n",
              "        buttonEl.style.display =\n",
              "          google.colab.kernel.accessAllowed ? 'block' : 'none';\n",
              "\n",
              "        async function convertToInteractive(key) {\n",
              "          const element = document.querySelector('#df-0375e472-4268-4c81-8b4b-e9c1e502fea4');\n",
              "          const dataTable =\n",
              "            await google.colab.kernel.invokeFunction('convertToInteractive',\n",
              "                                                     [key], {});\n",
              "          if (!dataTable) return;\n",
              "\n",
              "          const docLinkHtml = 'Like what you see? Visit the ' +\n",
              "            '<a target=\"_blank\" href=https://colab.research.google.com/notebooks/data_table.ipynb>data table notebook</a>'\n",
              "            + ' to learn more about interactive tables.';\n",
              "          element.innerHTML = '';\n",
              "          dataTable['output_type'] = 'display_data';\n",
              "          await google.colab.output.renderOutput(dataTable, element);\n",
              "          const docLink = document.createElement('div');\n",
              "          docLink.innerHTML = docLinkHtml;\n",
              "          element.appendChild(docLink);\n",
              "        }\n",
              "      </script>\n",
              "    </div>\n",
              "  </div>\n",
              "  "
            ]
          },
          "metadata": {},
          "execution_count": 44
        }
      ],
      "source": [
        "pca = PCA(n_components = 10)\n",
        "pca.fit(scaled_data)\n",
        "data_pca = pca.transform(scaled_data)\n",
        "data_pca = pd.DataFrame(data_pca,columns=['PC1','PC2','PC3','PC4','PC5','PC6','PC7','PC8','PC9','PC10'])\n",
        "data_pca.head()"
      ]
    },
    {
      "cell_type": "code",
      "execution_count": 45,
      "metadata": {
        "colab": {
          "base_uri": "https://localhost:8080/",
          "height": 286
        },
        "id": "VV1S33pjjq_F",
        "outputId": "9b9b41af-a24b-4ed0-c95c-e9271dccf80d"
      },
      "outputs": [
        {
          "output_type": "execute_result",
          "data": {
            "text/plain": [
              "<matplotlib.axes._subplots.AxesSubplot at 0x7f5cb6805190>"
            ]
          },
          "metadata": {},
          "execution_count": 45
        },
        {
          "output_type": "display_data",
          "data": {
            "text/plain": [
              "<Figure size 432x288 with 2 Axes>"
            ],
            "image/png": "[encoded data removed]"
          },
          "metadata": {
            "needs_background": "light"
          }
        }
      ],
      "source": [
        "sns.heatmap(data_pca.corr())"
      ]
    },
    {
      "cell_type": "markdown",
      "metadata": {
        "id": "SRWdJlSM5UuU"
      },
      "source": [
        "Decision Tree Classifier (ensemble learning)"
      ]
    },
    {
      "cell_type": "code",
      "execution_count": 46,
      "metadata": {
        "colab": {
          "base_uri": "https://localhost:8080/",
          "height": 621
        },
        "id": "YQ9hgn92_e9c",
        "outputId": "89e6e9c8-147b-47af-d0a9-8ef8b407517d"
      },
      "outputs": [
        {
          "output_type": "display_data",
          "data": {
            "text/plain": [
              "<Figure size 720x720 with 1 Axes>"
            ],
            "image/png": "[encoded data removed]"
          },
          "metadata": {
            "needs_background": "light"
          }
        }
      ],
      "source": [
        "from sklearn.ensemble import ExtraTreesClassifier\n",
        "# Building the model\n",
        "extra_tree_forest = ExtraTreesClassifier(n_estimators = 9,\n",
        "\t\t\t\t\t\t\t\t\t\tcriterion ='entropy', max_features = 5)\n",
        "\n",
        "# Training the model\n",
        "extra_tree_forest.fit(X, y)\n",
        "\n",
        "# Computing the importance of each feature\n",
        "feature_importance = extra_tree_forest.feature_importances_\n",
        "\n",
        "# Normalizing the individual importances\n",
        "feature_importance_normalized = np.std([tree.feature_importances_ for tree in\n",
        "\t\t\t\t\t\t\t\t\t\textra_tree_forest.estimators_],\n",
        "\t\t\t\t\t\t\t\t\t\taxis = 0)\n",
        "# Plotting a Bar Graph to compare the models\n",
        "fig, ax = plt.subplots(figsize=(10,10))  \n",
        "plt.bar( pd.DataFrame(X).columns, feature_importance_normalized)\n",
        "plt.xlabel('Feature Labels')\n",
        "plt.ylabel('Feature Importances')\n",
        "plt.title('Comparison of different Feature Importances')\n",
        "plt.show()\n"
      ]
    },
    {
      "cell_type": "code",
      "execution_count": 47,
      "metadata": {
        "colab": {
          "base_uri": "https://localhost:8080/"
        },
        "id": "ax0B1VLm_u7Y",
        "outputId": "f1719b65-da0d-4f89-b6ba-425327cfa184"
      },
      "outputs": [
        {
          "output_type": "execute_result",
          "data": {
            "text/plain": [
              "array([9.39308153e-03, 2.01308929e-02, 3.68271725e-03, 2.71660085e-03,\n",
              "       3.72412961e-02, 3.14903437e-04, 4.13791887e-02, 5.47956153e-03,\n",
              "       4.86625961e-02, 3.20127704e-02, 1.07105066e-03, 7.25284933e-04,\n",
              "       1.26209816e-02, 1.37289886e-02, 6.92984356e-04, 9.87683503e-03,\n",
              "       1.11279832e-02, 9.95794631e-03, 3.58254950e-02, 3.73904534e-02,\n",
              "       1.76597691e-02, 3.93923393e-02, 7.03663171e-02, 1.43911148e-02,\n",
              "       1.78928617e-02, 2.53976663e-03, 5.86345032e-03, 3.91220314e-03,\n",
              "       3.74086891e-03, 2.73768258e-03, 2.39247550e-03, 0.00000000e+00,\n",
              "       0.00000000e+00, 0.00000000e+00, 5.17540542e-03, 1.02755324e-03,\n",
              "       2.30100633e-03, 3.41639194e-03, 2.90849732e-02, 3.41830070e-02,\n",
              "       5.62794538e-02, 3.32696760e-03, 5.95641017e-04, 1.86641609e-05,\n",
              "       3.60492668e-03, 0.00000000e+00, 1.26534878e-01, 8.98674411e-03,\n",
              "       2.53193650e-02, 0.00000000e+00, 1.83093672e-05, 6.64068446e-02,\n",
              "       4.21935876e-02, 1.50881891e-03, 5.87025411e-03, 2.56726928e-03,\n",
              "       0.00000000e+00, 0.00000000e+00, 0.00000000e+00, 0.00000000e+00,\n",
              "       0.00000000e+00, 0.00000000e+00, 1.27562877e-03, 3.99818623e-02,\n",
              "       2.60434954e-02, 6.67309143e-03, 3.50406581e-03, 1.97956722e-01,\n",
              "       6.36115176e-03, 5.90989482e-02, 2.08390378e-05, 4.69774615e-05,\n",
              "       3.45554763e-03, 1.38890895e-04, 1.13438918e-03, 1.24870682e-05,\n",
              "       7.50898196e-03, 1.27110905e-03])"
            ]
          },
          "metadata": {},
          "execution_count": 47
        }
      ],
      "source": [
        "feature_importance_normalized"
      ]
    },
    {
      "cell_type": "code",
      "execution_count": 48,
      "metadata": {
        "colab": {
          "base_uri": "https://localhost:8080/"
        },
        "id": "yKtseKT8mbhR",
        "outputId": "1d1d76ad-f188-40f1-a9f6-adbc1f1f7cd7"
      },
      "outputs": [
        {
          "output_type": "stream",
          "name": "stdout",
          "text": [
            "[4, 6, 8, 9, 18, 19, 21, 22, 38, 39, 40, 46, 48, 51, 52, 63, 64, 67, 69]\n"
          ]
        }
      ],
      "source": [
        "features_arr = []\n",
        "for i in range(0, len(feature_importance_normalized)):\n",
        "  if feature_importance_normalized[i]>= 0.025:\n",
        "    features_arr.append(i)\n",
        "print(features_arr)"
      ]
    },
    {
      "cell_type": "markdown",
      "metadata": {
        "id": "P2DuBSNDOuEg"
      },
      "source": [
        "AutoEncoders for Feature Extraction"
      ]
    },
    {
      "cell_type": "code",
      "execution_count": 49,
      "metadata": {
        "id": "Rlf_6uTVOYFS"
      },
      "outputs": [],
      "source": [
        "from sklearn.preprocessing import MinMaxScaler\n",
        "from sklearn.model_selection import train_test_split\n",
        "from tensorflow.keras.layers import LeakyReLU\n",
        "from tensorflow.keras.models import Model\n",
        "from tensorflow.keras.layers import Input\n",
        "from tensorflow.keras.layers import Dense\n",
        "from tensorflow.keras.layers import BatchNormalization\n",
        "from tensorflow.keras.models import load_model"
      ]
    },
    {
      "cell_type": "code",
      "execution_count": 50,
      "metadata": {
        "id": "eQzm_jayVvSF"
      },
      "outputs": [],
      "source": [
        "n_inputs = X.shape[1]\n",
        "# encoder\n",
        "input_data_shape = Input(shape=(n_inputs,))\n",
        "encoder = Dense(n_inputs*2)(input_data_shape)\n",
        "encoder = BatchNormalization()(encoder)\n",
        "encoder = LeakyReLU()(encoder)\n",
        "# encoder level 2\n",
        "encoder = Dense(n_inputs)(encoder)\n",
        "encoder = BatchNormalization()(encoder)\n",
        "encoder = LeakyReLU()(encoder)\n",
        "# bottleneck\n",
        "n_bottleneck = round(float(n_inputs)/2.0)\n",
        "bottleneck = Dense(n_bottleneck)(encoder)\n",
        "#decoder level 1\n",
        "decoder = Dense(n_inputs)(bottleneck)\n",
        "decoder = BatchNormalization()(decoder)\n",
        "decoder = LeakyReLU()(decoder)\n",
        "#decoder level 2\n",
        "decoder = Dense(n_inputs*2)(decoder)\n",
        "decoder = BatchNormalization()(decoder)\n",
        "decoder = LeakyReLU()(decoder)"
      ]
    },
    {
      "cell_type": "code",
      "execution_count": 51,
      "metadata": {
        "id": "BOa1JHycUe54"
      },
      "outputs": [],
      "source": [
        "#output layer\n",
        "output = Dense(n_inputs, activation='linear')(decoder)\n",
        "# define autoencoder model\n",
        "model = Model(inputs=input_data_shape, outputs=output)\n",
        "model.compile(optimizer='adam', loss='mse')"
      ]
    },
    {
      "cell_type": "code",
      "execution_count": 52,
      "metadata": {
        "colab": {
          "base_uri": "https://localhost:8080/"
        },
        "id": "stvrU77trRj0",
        "outputId": "d7524217-a028-4fe0-a4db-a6f6a6bc01a4"
      },
      "outputs": [
        {
          "output_type": "stream",
          "name": "stdout",
          "text": [
            "Model: \"model_1\"\n",
            "_________________________________________________________________\n",
            " Layer (type)                Output Shape              Param #   \n",
            "=================================================================\n",
            " input_2 (InputLayer)        [(None, 78)]              0         \n",
            "                                                                 \n",
            " dense_6 (Dense)             (None, 156)               12324     \n",
            "                                                                 \n",
            " batch_normalization (BatchN  (None, 156)              624       \n",
            " ormalization)                                                   \n",
            "                                                                 \n",
            " leaky_re_lu (LeakyReLU)     (None, 156)               0         \n",
            "                                                                 \n",
            " dense_7 (Dense)             (None, 78)                12246     \n",
            "                                                                 \n",
            " batch_normalization_1 (Batc  (None, 78)               312       \n",
            " hNormalization)                                                 \n",
            "                                                                 \n",
            " leaky_re_lu_1 (LeakyReLU)   (None, 78)                0         \n",
            "                                                                 \n",
            " dense_8 (Dense)             (None, 39)                3081      \n",
            "                                                                 \n",
            " dense_9 (Dense)             (None, 78)                3120      \n",
            "                                                                 \n",
            " batch_normalization_2 (Batc  (None, 78)               312       \n",
            " hNormalization)                                                 \n",
            "                                                                 \n",
            " leaky_re_lu_2 (LeakyReLU)   (None, 78)                0         \n",
            "                                                                 \n",
            " dense_10 (Dense)            (None, 156)               12324     \n",
            "                                                                 \n",
            " batch_normalization_3 (Batc  (None, 156)              624       \n",
            " hNormalization)                                                 \n",
            "                                                                 \n",
            " leaky_re_lu_3 (LeakyReLU)   (None, 156)               0         \n",
            "                                                                 \n",
            " dense_11 (Dense)            (None, 78)                12246     \n",
            "                                                                 \n",
            "=================================================================\n",
            "Total params: 57,213\n",
            "Trainable params: 56,277\n",
            "Non-trainable params: 936\n",
            "_________________________________________________________________\n"
          ]
        }
      ],
      "source": [
        "model.summary()"
      ]
    },
    {
      "cell_type": "code",
      "execution_count": 53,
      "metadata": {
        "id": "S2HmYvzLtcF3"
      },
      "outputs": [],
      "source": [
        "X_train, X_test, y_train, y_test = train_test_split(X,y,test_size=0.33, random_state=1)\n",
        "t = MinMaxScaler()\n",
        "t.fit(X_train)\n",
        "X_train = t.transform(X_train)\n",
        "X_test = t.transform(X_test)"
      ]
    },
    {
      "cell_type": "code",
      "execution_count": 54,
      "metadata": {
        "colab": {
          "base_uri": "https://localhost:8080/"
        },
        "id": "QZD8CbhPrYWT",
        "outputId": "1823bf7f-149d-4ffe-c83f-877025177cb7"
      },
      "outputs": [
        {
          "output_type": "stream",
          "name": "stdout",
          "text": [
            "Epoch 1/50\n",
            "6759/6759 - 21s - loss: 0.0033 - val_loss: 8.0420e-04 - 21s/epoch - 3ms/step\n",
            "Epoch 2/50\n",
            "6759/6759 - 21s - loss: 9.2522e-04 - val_loss: 3.6421e-04 - 21s/epoch - 3ms/step\n",
            "Epoch 3/50\n",
            "6759/6759 - 20s - loss: 5.7275e-04 - val_loss: 3.6982e-04 - 20s/epoch - 3ms/step\n",
            "Epoch 4/50\n",
            "6759/6759 - 19s - loss: 4.4250e-04 - val_loss: 2.5697e-04 - 19s/epoch - 3ms/step\n",
            "Epoch 5/50\n",
            "6759/6759 - 20s - loss: 3.6378e-04 - val_loss: 2.0742e-04 - 20s/epoch - 3ms/step\n",
            "Epoch 6/50\n",
            "6759/6759 - 21s - loss: 3.0750e-04 - val_loss: 1.5792e-04 - 21s/epoch - 3ms/step\n",
            "Epoch 7/50\n",
            "6759/6759 - 21s - loss: 2.6964e-04 - val_loss: 2.0539e-04 - 21s/epoch - 3ms/step\n",
            "Epoch 8/50\n",
            "6759/6759 - 21s - loss: 2.3937e-04 - val_loss: 1.8969e-04 - 21s/epoch - 3ms/step\n",
            "Epoch 9/50\n",
            "6759/6759 - 21s - loss: 2.2231e-04 - val_loss: 1.5334e-04 - 21s/epoch - 3ms/step\n",
            "Epoch 10/50\n",
            "6759/6759 - 19s - loss: 1.9773e-04 - val_loss: 1.2380e-04 - 19s/epoch - 3ms/step\n",
            "Epoch 11/50\n",
            "6759/6759 - 21s - loss: 1.8871e-04 - val_loss: 1.2836e-04 - 21s/epoch - 3ms/step\n",
            "Epoch 12/50\n",
            "6759/6759 - 21s - loss: 1.7680e-04 - val_loss: 1.2767e-04 - 21s/epoch - 3ms/step\n",
            "Epoch 13/50\n",
            "6759/6759 - 19s - loss: 1.7030e-04 - val_loss: 1.3051e-04 - 19s/epoch - 3ms/step\n",
            "Epoch 14/50\n",
            "6759/6759 - 21s - loss: 1.5386e-04 - val_loss: 1.3653e-04 - 21s/epoch - 3ms/step\n",
            "Epoch 15/50\n",
            "6759/6759 - 19s - loss: 1.5084e-04 - val_loss: 1.1583e-04 - 19s/epoch - 3ms/step\n",
            "Epoch 16/50\n",
            "6759/6759 - 21s - loss: 1.4055e-04 - val_loss: 1.2902e-04 - 21s/epoch - 3ms/step\n",
            "Epoch 17/50\n",
            "6759/6759 - 19s - loss: 1.3949e-04 - val_loss: 1.6248e-04 - 19s/epoch - 3ms/step\n",
            "Epoch 18/50\n",
            "6759/6759 - 19s - loss: 1.3449e-04 - val_loss: 2.1524e-04 - 19s/epoch - 3ms/step\n",
            "Epoch 19/50\n",
            "6759/6759 - 20s - loss: 1.2851e-04 - val_loss: 1.1669e-04 - 20s/epoch - 3ms/step\n",
            "Epoch 20/50\n",
            "6759/6759 - 19s - loss: 1.2297e-04 - val_loss: 1.3954e-04 - 19s/epoch - 3ms/step\n",
            "Epoch 21/50\n",
            "6759/6759 - 19s - loss: 1.2843e-04 - val_loss: 9.1875e-05 - 19s/epoch - 3ms/step\n",
            "Epoch 22/50\n",
            "6759/6759 - 21s - loss: 1.1417e-04 - val_loss: 1.0302e-04 - 21s/epoch - 3ms/step\n",
            "Epoch 23/50\n",
            "6759/6759 - 20s - loss: 1.1480e-04 - val_loss: 1.1786e-04 - 20s/epoch - 3ms/step\n",
            "Epoch 24/50\n",
            "6759/6759 - 20s - loss: 1.1172e-04 - val_loss: 1.0083e-04 - 20s/epoch - 3ms/step\n",
            "Epoch 25/50\n",
            "6759/6759 - 21s - loss: 1.1012e-04 - val_loss: 1.0248e-04 - 21s/epoch - 3ms/step\n",
            "Epoch 26/50\n",
            "6759/6759 - 21s - loss: 1.0845e-04 - val_loss: 1.0709e-04 - 21s/epoch - 3ms/step\n",
            "Epoch 27/50\n",
            "6759/6759 - 19s - loss: 1.0683e-04 - val_loss: 1.0329e-04 - 19s/epoch - 3ms/step\n",
            "Epoch 28/50\n",
            "6759/6759 - 21s - loss: 1.0595e-04 - val_loss: 8.9031e-05 - 21s/epoch - 3ms/step\n",
            "Epoch 29/50\n",
            "6759/6759 - 19s - loss: 1.0086e-04 - val_loss: 8.2760e-05 - 19s/epoch - 3ms/step\n",
            "Epoch 30/50\n",
            "6759/6759 - 19s - loss: 9.7944e-05 - val_loss: 8.6684e-05 - 19s/epoch - 3ms/step\n",
            "Epoch 31/50\n",
            "6759/6759 - 20s - loss: 9.5856e-05 - val_loss: 8.4631e-05 - 20s/epoch - 3ms/step\n",
            "Epoch 32/50\n",
            "6759/6759 - 21s - loss: 9.7690e-05 - val_loss: 9.4419e-05 - 21s/epoch - 3ms/step\n",
            "Epoch 33/50\n",
            "6759/6759 - 21s - loss: 9.3378e-05 - val_loss: 1.1456e-04 - 21s/epoch - 3ms/step\n",
            "Epoch 34/50\n",
            "6759/6759 - 21s - loss: 9.8202e-05 - val_loss: 8.3474e-05 - 21s/epoch - 3ms/step\n",
            "Epoch 35/50\n",
            "6759/6759 - 21s - loss: 9.2964e-05 - val_loss: 7.8176e-05 - 21s/epoch - 3ms/step\n",
            "Epoch 36/50\n",
            "6759/6759 - 19s - loss: 9.4001e-05 - val_loss: 1.2579e-04 - 19s/epoch - 3ms/step\n",
            "Epoch 37/50\n",
            "6759/6759 - 19s - loss: 9.1146e-05 - val_loss: 9.8784e-05 - 19s/epoch - 3ms/step\n",
            "Epoch 38/50\n",
            "6759/6759 - 19s - loss: 8.8724e-05 - val_loss: 8.2634e-05 - 19s/epoch - 3ms/step\n",
            "Epoch 39/50\n",
            "6759/6759 - 20s - loss: 8.7669e-05 - val_loss: 7.8084e-05 - 20s/epoch - 3ms/step\n",
            "Epoch 40/50\n",
            "6759/6759 - 20s - loss: 8.5415e-05 - val_loss: 9.5114e-05 - 20s/epoch - 3ms/step\n",
            "Epoch 41/50\n",
            "6759/6759 - 21s - loss: 8.3448e-05 - val_loss: 7.5341e-05 - 21s/epoch - 3ms/step\n",
            "Epoch 42/50\n",
            "6759/6759 - 19s - loss: 8.2885e-05 - val_loss: 9.9112e-05 - 19s/epoch - 3ms/step\n",
            "Epoch 43/50\n",
            "6759/6759 - 21s - loss: 8.3545e-05 - val_loss: 9.4048e-05 - 21s/epoch - 3ms/step\n",
            "Epoch 44/50\n",
            "6759/6759 - 21s - loss: 8.2251e-05 - val_loss: 8.7013e-05 - 21s/epoch - 3ms/step\n",
            "Epoch 45/50\n",
            "6759/6759 - 21s - loss: 8.2266e-05 - val_loss: 6.2945e-05 - 21s/epoch - 3ms/step\n",
            "Epoch 46/50\n",
            "6759/6759 - 21s - loss: 8.4506e-05 - val_loss: 8.1977e-05 - 21s/epoch - 3ms/step\n",
            "Epoch 47/50\n",
            "6759/6759 - 20s - loss: 7.8058e-05 - val_loss: 1.0203e-04 - 20s/epoch - 3ms/step\n",
            "Epoch 48/50\n",
            "6759/6759 - 21s - loss: 7.6752e-05 - val_loss: 8.4488e-05 - 21s/epoch - 3ms/step\n",
            "Epoch 49/50\n",
            "6759/6759 - 19s - loss: 7.6906e-05 - val_loss: 9.2119e-05 - 19s/epoch - 3ms/step\n",
            "Epoch 50/50\n",
            "6759/6759 - 19s - loss: 7.9783e-05 - val_loss: 7.9926e-05 - 19s/epoch - 3ms/step\n"
          ]
        }
      ],
      "source": [
        "history = model.fit(X_train, X_train, epochs=50, batch_size=16,verbose=2, validation_data=(X_test,X_test))"
      ]
    },
    {
      "cell_type": "code",
      "execution_count": 55,
      "metadata": {
        "colab": {
          "base_uri": "https://localhost:8080/"
        },
        "id": "x0UY3nQcwcBn",
        "outputId": "6e6f078c-15ad-42fe-9f8c-f6e411af3ec9"
      },
      "outputs": [
        {
          "output_type": "stream",
          "name": "stdout",
          "text": [
            "WARNING:tensorflow:Compiled the loaded model, but the compiled metrics have yet to be built. `model.compile_metrics` will be empty until you train or evaluate the model.\n"
          ]
        }
      ],
      "source": [
        "# encoder model without the decoder\n",
        "encoder = Model(inputs=input_data_shape, outputs=bottleneck)\n",
        "# save the encoder to file\n",
        "encoder.save('encoder.h5')"
      ]
    },
    {
      "cell_type": "code",
      "execution_count": 56,
      "metadata": {
        "colab": {
          "base_uri": "https://localhost:8080/"
        },
        "id": "Y6sa7Woey0CQ",
        "outputId": "87d77e37-80f6-4ca9-ad39-36c2195d6fa3"
      },
      "outputs": [
        {
          "output_type": "stream",
          "name": "stdout",
          "text": [
            "0.9849810385611835\n"
          ]
        }
      ],
      "source": [
        "from sklearn.linear_model import LogisticRegression\n",
        "from sklearn.metrics import accuracy_score\n",
        "model = LogisticRegression(max_iter=1000)\n",
        "model.fit(X_train,y_train)\n",
        "yhat = model.predict(X_test)\n",
        "acc = accuracy_score(y_test, yhat)\n",
        "print(acc)"
      ]
    },
    {
      "cell_type": "code",
      "execution_count": 57,
      "metadata": {
        "colab": {
          "base_uri": "https://localhost:8080/"
        },
        "id": "Tm0velWe_UJk",
        "outputId": "caede781-e66c-42e6-e796-c96ab262aaa4"
      },
      "outputs": [
        {
          "output_type": "stream",
          "name": "stdout",
          "text": [
            "WARNING:tensorflow:No training configuration found in the save file, so the model was *not* compiled. Compile it manually.\n",
            "0.9917020238050539\n"
          ]
        },
        {
          "output_type": "stream",
          "name": "stderr",
          "text": [
            "/usr/local/lib/python3.7/dist-packages/sklearn/linear_model/_logistic.py:818: ConvergenceWarning: lbfgs failed to converge (status=1):\n",
            "STOP: TOTAL NO. of ITERATIONS REACHED LIMIT.\n",
            "\n",
            "Increase the number of iterations (max_iter) or scale the data as shown in:\n",
            "    https://scikit-learn.org/stable/modules/preprocessing.html\n",
            "Please also refer to the documentation for alternative solver options:\n",
            "    https://scikit-learn.org/stable/modules/linear_model.html#logistic-regression\n",
            "  extra_warning_msg=_LOGISTIC_SOLVER_CONVERGENCE_MSG,\n"
          ]
        }
      ],
      "source": [
        "encoder = load_model('encoder.h5')\n",
        "X_train_encode = encoder.predict(X_train)\n",
        "X_test_encode = encoder.predict(X_test)\n",
        "model = LogisticRegression(max_iter=1000)\n",
        "model.fit(X_train_encode,y_train)\n",
        "yhat = model.predict(X_test_encode)\n",
        "acc = accuracy_score(y_test, yhat)\n",
        "print(acc)"
      ]
    },
    {
      "cell_type": "markdown",
      "metadata": {
        "id": "u8eKTk30IqtH"
      },
      "source": [
        "LSTM Model for classification"
      ]
    },
    {
      "cell_type": "code",
      "execution_count": 58,
      "metadata": {
        "id": "ZW_l8tfMIn_v"
      },
      "outputs": [],
      "source": [
        "from keras.preprocessing import sequence\n",
        "import tensorflow as tf\n",
        "from keras.models import Sequential\n",
        "from keras.layers import Dense\n",
        "from keras.layers import LSTM\n",
        "from tensorflow.keras.optimizers import Adam\n",
        "from keras.models import load_model\n",
        "from keras.callbacks import ModelCheckpoint"
      ]
    },
    {
      "cell_type": "code",
      "execution_count": null,
      "metadata": {
        "id": "gHDp7v_IKsfB"
      },
      "outputs": [],
      "source": [
        "model = Sequential()\n",
        "model.add(LSTM(256, input_shape=(seq_len, 4)))\n",
        "model.add(Dense(1, activation='sigmoid'))"
      ]
    },
    {
      "cell_type": "code",
      "execution_count": null,
      "metadata": {
        "id": "gBGpscAc49dF"
      },
      "outputs": [],
      "source": [
        "model.summary()"
      ]
    }
  ],
  "metadata": {
    "colab": {
      "collapsed_sections": [],
      "name": "btechproject.ipynb",
      "provenance": [],
      "include_colab_link": true
    },
    "kernelspec": {
      "display_name": "Python 3",
      "name": "python3"
    },
    "language_info": {
      "name": "python"
    }
  },
  "nbformat": 4,
  "nbformat_minor": 0
}